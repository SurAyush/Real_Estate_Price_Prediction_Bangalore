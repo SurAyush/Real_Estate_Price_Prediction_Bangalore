{
 "cells": [
  {
   "cell_type": "code",
   "execution_count": 2,
   "id": "cae07e02-68b7-4c0e-9ff7-9178188365dc",
   "metadata": {},
   "outputs": [],
   "source": [
    "import numpy as np\n",
    "import matplotlib.pyplot as plt\n",
    "import pandas as pd\n",
    "plt.rcParams['figure.figsize']=[12,10]"
   ]
  },
  {
   "cell_type": "code",
   "execution_count": 3,
   "id": "33c73359-973d-4f71-823d-be568f217331",
   "metadata": {},
   "outputs": [
    {
     "data": {
      "text/html": [
       "<div>\n",
       "<style scoped>\n",
       "    .dataframe tbody tr th:only-of-type {\n",
       "        vertical-align: middle;\n",
       "    }\n",
       "\n",
       "    .dataframe tbody tr th {\n",
       "        vertical-align: top;\n",
       "    }\n",
       "\n",
       "    .dataframe thead th {\n",
       "        text-align: right;\n",
       "    }\n",
       "</style>\n",
       "<table border=\"1\" class=\"dataframe\">\n",
       "  <thead>\n",
       "    <tr style=\"text-align: right;\">\n",
       "      <th></th>\n",
       "      <th>area_type</th>\n",
       "      <th>availability</th>\n",
       "      <th>location</th>\n",
       "      <th>size</th>\n",
       "      <th>society</th>\n",
       "      <th>total_sqft</th>\n",
       "      <th>bath</th>\n",
       "      <th>balcony</th>\n",
       "      <th>price</th>\n",
       "    </tr>\n",
       "  </thead>\n",
       "  <tbody>\n",
       "    <tr>\n",
       "      <th>0</th>\n",
       "      <td>Super built-up  Area</td>\n",
       "      <td>19-Dec</td>\n",
       "      <td>Electronic City Phase II</td>\n",
       "      <td>2 BHK</td>\n",
       "      <td>Coomee</td>\n",
       "      <td>1056</td>\n",
       "      <td>2.0</td>\n",
       "      <td>1.0</td>\n",
       "      <td>39.07</td>\n",
       "    </tr>\n",
       "    <tr>\n",
       "      <th>1</th>\n",
       "      <td>Plot  Area</td>\n",
       "      <td>Ready To Move</td>\n",
       "      <td>Chikka Tirupathi</td>\n",
       "      <td>4 Bedroom</td>\n",
       "      <td>Theanmp</td>\n",
       "      <td>2600</td>\n",
       "      <td>5.0</td>\n",
       "      <td>3.0</td>\n",
       "      <td>120.00</td>\n",
       "    </tr>\n",
       "    <tr>\n",
       "      <th>2</th>\n",
       "      <td>Built-up  Area</td>\n",
       "      <td>Ready To Move</td>\n",
       "      <td>Uttarahalli</td>\n",
       "      <td>3 BHK</td>\n",
       "      <td>NaN</td>\n",
       "      <td>1440</td>\n",
       "      <td>2.0</td>\n",
       "      <td>3.0</td>\n",
       "      <td>62.00</td>\n",
       "    </tr>\n",
       "    <tr>\n",
       "      <th>3</th>\n",
       "      <td>Super built-up  Area</td>\n",
       "      <td>Ready To Move</td>\n",
       "      <td>Lingadheeranahalli</td>\n",
       "      <td>3 BHK</td>\n",
       "      <td>Soiewre</td>\n",
       "      <td>1521</td>\n",
       "      <td>3.0</td>\n",
       "      <td>1.0</td>\n",
       "      <td>95.00</td>\n",
       "    </tr>\n",
       "    <tr>\n",
       "      <th>4</th>\n",
       "      <td>Super built-up  Area</td>\n",
       "      <td>Ready To Move</td>\n",
       "      <td>Kothanur</td>\n",
       "      <td>2 BHK</td>\n",
       "      <td>NaN</td>\n",
       "      <td>1200</td>\n",
       "      <td>2.0</td>\n",
       "      <td>1.0</td>\n",
       "      <td>51.00</td>\n",
       "    </tr>\n",
       "  </tbody>\n",
       "</table>\n",
       "</div>"
      ],
      "text/plain": [
       "              area_type   availability                  location       size  \\\n",
       "0  Super built-up  Area         19-Dec  Electronic City Phase II      2 BHK   \n",
       "1            Plot  Area  Ready To Move          Chikka Tirupathi  4 Bedroom   \n",
       "2        Built-up  Area  Ready To Move               Uttarahalli      3 BHK   \n",
       "3  Super built-up  Area  Ready To Move        Lingadheeranahalli      3 BHK   \n",
       "4  Super built-up  Area  Ready To Move                  Kothanur      2 BHK   \n",
       "\n",
       "   society total_sqft  bath  balcony   price  \n",
       "0  Coomee        1056   2.0      1.0   39.07  \n",
       "1  Theanmp       2600   5.0      3.0  120.00  \n",
       "2      NaN       1440   2.0      3.0   62.00  \n",
       "3  Soiewre       1521   3.0      1.0   95.00  \n",
       "4      NaN       1200   2.0      1.0   51.00  "
      ]
     },
     "execution_count": 3,
     "metadata": {},
     "output_type": "execute_result"
    }
   ],
   "source": [
    "df = pd.read_csv('Bengaluru_House_Data.csv')\n",
    "df.head()"
   ]
  },
  {
   "cell_type": "code",
   "execution_count": 4,
   "id": "98bffe0b-d6df-4a1c-9904-080117056e50",
   "metadata": {},
   "outputs": [
    {
     "data": {
      "text/plain": [
       "(13320, 9)"
      ]
     },
     "execution_count": 4,
     "metadata": {},
     "output_type": "execute_result"
    }
   ],
   "source": [
    "df.shape"
   ]
  },
  {
   "cell_type": "code",
   "execution_count": 5,
   "id": "f78c05f3-0eb2-4a3b-b86d-180d57af61f8",
   "metadata": {},
   "outputs": [
    {
     "data": {
      "text/plain": [
       "area_type\n",
       "Super built-up  Area    8790\n",
       "Built-up  Area          2418\n",
       "Plot  Area              2025\n",
       "Carpet  Area              87\n",
       "Name: area_type, dtype: int64"
      ]
     },
     "execution_count": 5,
     "metadata": {},
     "output_type": "execute_result"
    }
   ],
   "source": [
    "#Grouping the dataset based on area_type and finding count of each area_type and then descending sorting those groups\n",
    "df.groupby('area_type')['area_type'].count().sort_values(ascending=False)"
   ]
  },
  {
   "cell_type": "markdown",
   "id": "eb7bbc55-6ff2-4588-82c1-b9626eb9cb0c",
   "metadata": {},
   "source": [
    "##### We will assume factors like area_type, availability, balcony, availability do not affect pricing"
   ]
  },
  {
   "cell_type": "code",
   "execution_count": 6,
   "id": "c9575f50-1f00-4e16-9539-45ca935b3fbe",
   "metadata": {},
   "outputs": [],
   "source": [
    "df1 = df.drop(['area_type','society','balcony','availability'],axis='columns')"
   ]
  },
  {
   "cell_type": "code",
   "execution_count": 7,
   "id": "77794787-2fd6-437f-b26e-c0bebe81b0f6",
   "metadata": {},
   "outputs": [
    {
     "data": {
      "text/html": [
       "<div>\n",
       "<style scoped>\n",
       "    .dataframe tbody tr th:only-of-type {\n",
       "        vertical-align: middle;\n",
       "    }\n",
       "\n",
       "    .dataframe tbody tr th {\n",
       "        vertical-align: top;\n",
       "    }\n",
       "\n",
       "    .dataframe thead th {\n",
       "        text-align: right;\n",
       "    }\n",
       "</style>\n",
       "<table border=\"1\" class=\"dataframe\">\n",
       "  <thead>\n",
       "    <tr style=\"text-align: right;\">\n",
       "      <th></th>\n",
       "      <th>location</th>\n",
       "      <th>size</th>\n",
       "      <th>total_sqft</th>\n",
       "      <th>bath</th>\n",
       "      <th>price</th>\n",
       "    </tr>\n",
       "  </thead>\n",
       "  <tbody>\n",
       "    <tr>\n",
       "      <th>0</th>\n",
       "      <td>Electronic City Phase II</td>\n",
       "      <td>2 BHK</td>\n",
       "      <td>1056</td>\n",
       "      <td>2.0</td>\n",
       "      <td>39.07</td>\n",
       "    </tr>\n",
       "    <tr>\n",
       "      <th>1</th>\n",
       "      <td>Chikka Tirupathi</td>\n",
       "      <td>4 Bedroom</td>\n",
       "      <td>2600</td>\n",
       "      <td>5.0</td>\n",
       "      <td>120.00</td>\n",
       "    </tr>\n",
       "    <tr>\n",
       "      <th>2</th>\n",
       "      <td>Uttarahalli</td>\n",
       "      <td>3 BHK</td>\n",
       "      <td>1440</td>\n",
       "      <td>2.0</td>\n",
       "      <td>62.00</td>\n",
       "    </tr>\n",
       "    <tr>\n",
       "      <th>3</th>\n",
       "      <td>Lingadheeranahalli</td>\n",
       "      <td>3 BHK</td>\n",
       "      <td>1521</td>\n",
       "      <td>3.0</td>\n",
       "      <td>95.00</td>\n",
       "    </tr>\n",
       "    <tr>\n",
       "      <th>4</th>\n",
       "      <td>Kothanur</td>\n",
       "      <td>2 BHK</td>\n",
       "      <td>1200</td>\n",
       "      <td>2.0</td>\n",
       "      <td>51.00</td>\n",
       "    </tr>\n",
       "    <tr>\n",
       "      <th>...</th>\n",
       "      <td>...</td>\n",
       "      <td>...</td>\n",
       "      <td>...</td>\n",
       "      <td>...</td>\n",
       "      <td>...</td>\n",
       "    </tr>\n",
       "    <tr>\n",
       "      <th>13315</th>\n",
       "      <td>Whitefield</td>\n",
       "      <td>5 Bedroom</td>\n",
       "      <td>3453</td>\n",
       "      <td>4.0</td>\n",
       "      <td>231.00</td>\n",
       "    </tr>\n",
       "    <tr>\n",
       "      <th>13316</th>\n",
       "      <td>Richards Town</td>\n",
       "      <td>4 BHK</td>\n",
       "      <td>3600</td>\n",
       "      <td>5.0</td>\n",
       "      <td>400.00</td>\n",
       "    </tr>\n",
       "    <tr>\n",
       "      <th>13317</th>\n",
       "      <td>Raja Rajeshwari Nagar</td>\n",
       "      <td>2 BHK</td>\n",
       "      <td>1141</td>\n",
       "      <td>2.0</td>\n",
       "      <td>60.00</td>\n",
       "    </tr>\n",
       "    <tr>\n",
       "      <th>13318</th>\n",
       "      <td>Padmanabhanagar</td>\n",
       "      <td>4 BHK</td>\n",
       "      <td>4689</td>\n",
       "      <td>4.0</td>\n",
       "      <td>488.00</td>\n",
       "    </tr>\n",
       "    <tr>\n",
       "      <th>13319</th>\n",
       "      <td>Doddathoguru</td>\n",
       "      <td>1 BHK</td>\n",
       "      <td>550</td>\n",
       "      <td>1.0</td>\n",
       "      <td>17.00</td>\n",
       "    </tr>\n",
       "  </tbody>\n",
       "</table>\n",
       "<p>13320 rows × 5 columns</p>\n",
       "</div>"
      ],
      "text/plain": [
       "                       location       size total_sqft  bath   price\n",
       "0      Electronic City Phase II      2 BHK       1056   2.0   39.07\n",
       "1              Chikka Tirupathi  4 Bedroom       2600   5.0  120.00\n",
       "2                   Uttarahalli      3 BHK       1440   2.0   62.00\n",
       "3            Lingadheeranahalli      3 BHK       1521   3.0   95.00\n",
       "4                      Kothanur      2 BHK       1200   2.0   51.00\n",
       "...                         ...        ...        ...   ...     ...\n",
       "13315                Whitefield  5 Bedroom       3453   4.0  231.00\n",
       "13316             Richards Town      4 BHK       3600   5.0  400.00\n",
       "13317     Raja Rajeshwari Nagar      2 BHK       1141   2.0   60.00\n",
       "13318           Padmanabhanagar      4 BHK       4689   4.0  488.00\n",
       "13319              Doddathoguru      1 BHK        550   1.0   17.00\n",
       "\n",
       "[13320 rows x 5 columns]"
      ]
     },
     "execution_count": 7,
     "metadata": {},
     "output_type": "execute_result"
    }
   ],
   "source": [
    "df1"
   ]
  },
  {
   "cell_type": "code",
   "execution_count": 8,
   "id": "3709b549-1b83-47d1-952c-f64bea5c80f0",
   "metadata": {},
   "outputs": [
    {
     "data": {
      "text/plain": [
       "location       1\n",
       "size          16\n",
       "total_sqft     0\n",
       "bath          73\n",
       "price          0\n",
       "dtype: int64"
      ]
     },
     "execution_count": 8,
     "metadata": {},
     "output_type": "execute_result"
    }
   ],
   "source": [
    "# give the number of fields with null values\n",
    "df1.isnull().sum()"
   ]
  },
  {
   "cell_type": "code",
   "execution_count": 9,
   "id": "ef89d418-955c-438c-a527-a607f7ea8371",
   "metadata": {},
   "outputs": [
    {
     "data": {
      "text/plain": [
       "location      0\n",
       "size          0\n",
       "total_sqft    0\n",
       "bath          0\n",
       "price         0\n",
       "dtype: int64"
      ]
     },
     "execution_count": 9,
     "metadata": {},
     "output_type": "execute_result"
    }
   ],
   "source": [
    "df2 = df1.dropna()\n",
    "df2.isnull().sum()"
   ]
  },
  {
   "cell_type": "code",
   "execution_count": 10,
   "id": "99ca27a0-a088-4861-b1a6-c88209122bf8",
   "metadata": {},
   "outputs": [
    {
     "data": {
      "text/plain": [
       "(13246, 5)"
      ]
     },
     "execution_count": 10,
     "metadata": {},
     "output_type": "execute_result"
    }
   ],
   "source": [
    "# number of rows reduces on dropping null columns\"\n",
    "df2.shape"
   ]
  },
  {
   "cell_type": "code",
   "execution_count": 11,
   "id": "2e03754f-0b9a-43e3-88d7-986fb98bbbf3",
   "metadata": {},
   "outputs": [
    {
     "data": {
      "text/plain": [
       "array(['2 BHK', '4 Bedroom', '3 BHK', '4 BHK', '6 Bedroom', '3 Bedroom',\n",
       "       '1 BHK', '1 RK', '1 Bedroom', '8 Bedroom', '2 Bedroom',\n",
       "       '7 Bedroom', '5 BHK', '7 BHK', '6 BHK', '5 Bedroom', '11 BHK',\n",
       "       '9 BHK', '9 Bedroom', '27 BHK', '10 Bedroom', '11 Bedroom',\n",
       "       '10 BHK', '19 BHK', '16 BHK', '43 Bedroom', '14 BHK', '8 BHK',\n",
       "       '12 Bedroom', '13 BHK', '18 Bedroom'], dtype=object)"
      ]
     },
     "execution_count": 11,
     "metadata": {},
     "output_type": "execute_result"
    }
   ],
   "source": [
    "df2['size'].unique()"
   ]
  },
  {
   "cell_type": "markdown",
   "id": "e69e196a-68d1-4bff-9924-027d65cd657d",
   "metadata": {},
   "source": [
    "##### size is either in n BHK or n Bedrooms, we want in simple float values for easier processing"
   ]
  },
  {
   "cell_type": "code",
   "execution_count": 12,
   "id": "bf1ac820-1675-45ba-a3ad-efe98f0af33a",
   "metadata": {},
   "outputs": [],
   "source": [
    "def give_bhk(x):\n",
    "    '''It will take the size(string) as parameter and return a float of number of bedrooms'''\n",
    "    return float(x.split(' ')[0])\n"
   ]
  },
  {
   "cell_type": "code",
   "execution_count": 13,
   "id": "9352e1dd-0a4f-4ee6-b541-b3b017fb198a",
   "metadata": {},
   "outputs": [
    {
     "data": {
      "text/plain": [
       "2.0"
      ]
     },
     "execution_count": 13,
     "metadata": {},
     "output_type": "execute_result"
    }
   ],
   "source": [
    "give_bhk('2 BHK')"
   ]
  },
  {
   "cell_type": "code",
   "execution_count": 14,
   "id": "9a8d36a7-857c-401e-bf77-db2fcd068b05",
   "metadata": {},
   "outputs": [
    {
     "data": {
      "text/plain": [
       "3.0"
      ]
     },
     "execution_count": 14,
     "metadata": {},
     "output_type": "execute_result"
    }
   ],
   "source": [
    "give_bhk('3 Bedrooms')"
   ]
  },
  {
   "cell_type": "code",
   "execution_count": 15,
   "id": "1fa5b130-55bf-4037-b7e7-eb765679319e",
   "metadata": {
    "scrolled": true
   },
   "outputs": [
    {
     "name": "stderr",
     "output_type": "stream",
     "text": [
      "C:\\Users\\Ardhendu Sur\\AppData\\Local\\Temp\\ipykernel_15708\\1161371904.py:1: SettingWithCopyWarning: \n",
      "A value is trying to be set on a copy of a slice from a DataFrame.\n",
      "Try using .loc[row_indexer,col_indexer] = value instead\n",
      "\n",
      "See the caveats in the documentation: https://pandas.pydata.org/pandas-docs/stable/user_guide/indexing.html#returning-a-view-versus-a-copy\n",
      "  df2['bhk'] = df2['size'].apply(give_bhk)\n"
     ]
    },
    {
     "data": {
      "text/html": [
       "<div>\n",
       "<style scoped>\n",
       "    .dataframe tbody tr th:only-of-type {\n",
       "        vertical-align: middle;\n",
       "    }\n",
       "\n",
       "    .dataframe tbody tr th {\n",
       "        vertical-align: top;\n",
       "    }\n",
       "\n",
       "    .dataframe thead th {\n",
       "        text-align: right;\n",
       "    }\n",
       "</style>\n",
       "<table border=\"1\" class=\"dataframe\">\n",
       "  <thead>\n",
       "    <tr style=\"text-align: right;\">\n",
       "      <th></th>\n",
       "      <th>location</th>\n",
       "      <th>size</th>\n",
       "      <th>total_sqft</th>\n",
       "      <th>bath</th>\n",
       "      <th>price</th>\n",
       "      <th>bhk</th>\n",
       "    </tr>\n",
       "  </thead>\n",
       "  <tbody>\n",
       "    <tr>\n",
       "      <th>0</th>\n",
       "      <td>Electronic City Phase II</td>\n",
       "      <td>2 BHK</td>\n",
       "      <td>1056</td>\n",
       "      <td>2.0</td>\n",
       "      <td>39.07</td>\n",
       "      <td>2.0</td>\n",
       "    </tr>\n",
       "    <tr>\n",
       "      <th>1</th>\n",
       "      <td>Chikka Tirupathi</td>\n",
       "      <td>4 Bedroom</td>\n",
       "      <td>2600</td>\n",
       "      <td>5.0</td>\n",
       "      <td>120.00</td>\n",
       "      <td>4.0</td>\n",
       "    </tr>\n",
       "    <tr>\n",
       "      <th>2</th>\n",
       "      <td>Uttarahalli</td>\n",
       "      <td>3 BHK</td>\n",
       "      <td>1440</td>\n",
       "      <td>2.0</td>\n",
       "      <td>62.00</td>\n",
       "      <td>3.0</td>\n",
       "    </tr>\n",
       "    <tr>\n",
       "      <th>3</th>\n",
       "      <td>Lingadheeranahalli</td>\n",
       "      <td>3 BHK</td>\n",
       "      <td>1521</td>\n",
       "      <td>3.0</td>\n",
       "      <td>95.00</td>\n",
       "      <td>3.0</td>\n",
       "    </tr>\n",
       "    <tr>\n",
       "      <th>4</th>\n",
       "      <td>Kothanur</td>\n",
       "      <td>2 BHK</td>\n",
       "      <td>1200</td>\n",
       "      <td>2.0</td>\n",
       "      <td>51.00</td>\n",
       "      <td>2.0</td>\n",
       "    </tr>\n",
       "  </tbody>\n",
       "</table>\n",
       "</div>"
      ],
      "text/plain": [
       "                   location       size total_sqft  bath   price  bhk\n",
       "0  Electronic City Phase II      2 BHK       1056   2.0   39.07  2.0\n",
       "1          Chikka Tirupathi  4 Bedroom       2600   5.0  120.00  4.0\n",
       "2               Uttarahalli      3 BHK       1440   2.0   62.00  3.0\n",
       "3        Lingadheeranahalli      3 BHK       1521   3.0   95.00  3.0\n",
       "4                  Kothanur      2 BHK       1200   2.0   51.00  2.0"
      ]
     },
     "execution_count": 15,
     "metadata": {},
     "output_type": "execute_result"
    }
   ],
   "source": [
    "df2['bhk'] = df2['size'].apply(give_bhk)\n",
    "df2.head()"
   ]
  },
  {
   "cell_type": "code",
   "execution_count": 16,
   "id": "ea46d58b-c7fa-4b35-b828-8541bbc0ce61",
   "metadata": {},
   "outputs": [
    {
     "data": {
      "text/plain": [
       "array([ 2.,  4.,  3.,  6.,  1.,  8.,  7.,  5., 11.,  9., 27., 10., 19.,\n",
       "       16., 43., 14., 12., 13., 18.])"
      ]
     },
     "execution_count": 16,
     "metadata": {},
     "output_type": "execute_result"
    }
   ],
   "source": [
    "df2['bhk'].unique()"
   ]
  },
  {
   "cell_type": "markdown",
   "id": "a3bc28f9-6c52-4ab7-98bb-aa5e26bd3ff1",
   "metadata": {},
   "source": [
    "##### If the bhk is too big it is either a very big place or a glitch"
   ]
  },
  {
   "cell_type": "code",
   "execution_count": 17,
   "id": "ed00928d-964b-4036-8b2c-38085e7205c8",
   "metadata": {},
   "outputs": [
    {
     "data": {
      "text/html": [
       "<div>\n",
       "<style scoped>\n",
       "    .dataframe tbody tr th:only-of-type {\n",
       "        vertical-align: middle;\n",
       "    }\n",
       "\n",
       "    .dataframe tbody tr th {\n",
       "        vertical-align: top;\n",
       "    }\n",
       "\n",
       "    .dataframe thead th {\n",
       "        text-align: right;\n",
       "    }\n",
       "</style>\n",
       "<table border=\"1\" class=\"dataframe\">\n",
       "  <thead>\n",
       "    <tr style=\"text-align: right;\">\n",
       "      <th></th>\n",
       "      <th>location</th>\n",
       "      <th>size</th>\n",
       "      <th>total_sqft</th>\n",
       "      <th>bath</th>\n",
       "      <th>price</th>\n",
       "      <th>bhk</th>\n",
       "    </tr>\n",
       "  </thead>\n",
       "  <tbody>\n",
       "    <tr>\n",
       "      <th>1718</th>\n",
       "      <td>2Electronic City Phase II</td>\n",
       "      <td>27 BHK</td>\n",
       "      <td>8000</td>\n",
       "      <td>27.0</td>\n",
       "      <td>230.0</td>\n",
       "      <td>27.0</td>\n",
       "    </tr>\n",
       "    <tr>\n",
       "      <th>4684</th>\n",
       "      <td>Munnekollal</td>\n",
       "      <td>43 Bedroom</td>\n",
       "      <td>2400</td>\n",
       "      <td>40.0</td>\n",
       "      <td>660.0</td>\n",
       "      <td>43.0</td>\n",
       "    </tr>\n",
       "  </tbody>\n",
       "</table>\n",
       "</div>"
      ],
      "text/plain": [
       "                       location        size total_sqft  bath  price   bhk\n",
       "1718  2Electronic City Phase II      27 BHK       8000  27.0  230.0  27.0\n",
       "4684                Munnekollal  43 Bedroom       2400  40.0  660.0  43.0"
      ]
     },
     "execution_count": 17,
     "metadata": {},
     "output_type": "execute_result"
    }
   ],
   "source": [
    "df2[df2['bhk']>20]"
   ]
  },
  {
   "cell_type": "markdown",
   "id": "68c4ae6d-126d-4f75-899d-e00d6daf642f",
   "metadata": {},
   "source": [
    "##### 8000 sq. ft. with 27 bhk is reasonable\n",
    "##### 2400 bhk with 43 bhk is quite not possible"
   ]
  },
  {
   "cell_type": "code",
   "execution_count": 18,
   "id": "18381d08-4d76-4386-9a16-d388bad3f3e9",
   "metadata": {},
   "outputs": [],
   "source": [
    "#outlier removal (#1)\n",
    "df2 = df2.drop(df2[df2['bhk'] == 43.0].index)"
   ]
  },
  {
   "cell_type": "code",
   "execution_count": 19,
   "id": "953e54a7-a322-4462-b2e4-fd0a4cbb562c",
   "metadata": {},
   "outputs": [
    {
     "data": {
      "text/plain": [
       "(13245, 6)"
      ]
     },
     "execution_count": 19,
     "metadata": {},
     "output_type": "execute_result"
    }
   ],
   "source": [
    "#After dropping the row with incorrect (glitched data)\n",
    "df2.shape"
   ]
  },
  {
   "cell_type": "code",
   "execution_count": 20,
   "id": "827614e9-85d8-4b13-828d-d5f415015c63",
   "metadata": {},
   "outputs": [
    {
     "data": {
      "text/plain": [
       "array(['1056', '2600', '1440', ..., '1133 - 1384', '774', '4689'],\n",
       "      dtype=object)"
      ]
     },
     "execution_count": 20,
     "metadata": {},
     "output_type": "execute_result"
    }
   ],
   "source": [
    "df2['total_sqft'].unique()"
   ]
  },
  {
   "cell_type": "markdown",
   "id": "39395ace-d714-4ce7-9482-fd4f1821c1df",
   "metadata": {},
   "source": [
    "##### other than float values ranges and other types of values are there"
   ]
  },
  {
   "cell_type": "code",
   "execution_count": 21,
   "id": "cba69a5c-4077-404b-8e3f-35f69bdf62d8",
   "metadata": {},
   "outputs": [],
   "source": [
    "def isfloat(x):\n",
    "    '''returns True is x is float'''\n",
    "    try:\n",
    "        float(x)\n",
    "    except:\n",
    "        return False\n",
    "    return True"
   ]
  },
  {
   "cell_type": "code",
   "execution_count": 22,
   "id": "9fa31c71-260e-469c-b068-a9446db4f9b7",
   "metadata": {},
   "outputs": [
    {
     "data": {
      "text/html": [
       "<div>\n",
       "<style scoped>\n",
       "    .dataframe tbody tr th:only-of-type {\n",
       "        vertical-align: middle;\n",
       "    }\n",
       "\n",
       "    .dataframe tbody tr th {\n",
       "        vertical-align: top;\n",
       "    }\n",
       "\n",
       "    .dataframe thead th {\n",
       "        text-align: right;\n",
       "    }\n",
       "</style>\n",
       "<table border=\"1\" class=\"dataframe\">\n",
       "  <thead>\n",
       "    <tr style=\"text-align: right;\">\n",
       "      <th></th>\n",
       "      <th>location</th>\n",
       "      <th>size</th>\n",
       "      <th>total_sqft</th>\n",
       "      <th>bath</th>\n",
       "      <th>price</th>\n",
       "      <th>bhk</th>\n",
       "    </tr>\n",
       "  </thead>\n",
       "  <tbody>\n",
       "    <tr>\n",
       "      <th>30</th>\n",
       "      <td>Yelahanka</td>\n",
       "      <td>4 BHK</td>\n",
       "      <td>2100 - 2850</td>\n",
       "      <td>4.0</td>\n",
       "      <td>186.000</td>\n",
       "      <td>4.0</td>\n",
       "    </tr>\n",
       "    <tr>\n",
       "      <th>122</th>\n",
       "      <td>Hebbal</td>\n",
       "      <td>4 BHK</td>\n",
       "      <td>3067 - 8156</td>\n",
       "      <td>4.0</td>\n",
       "      <td>477.000</td>\n",
       "      <td>4.0</td>\n",
       "    </tr>\n",
       "    <tr>\n",
       "      <th>137</th>\n",
       "      <td>8th Phase JP Nagar</td>\n",
       "      <td>2 BHK</td>\n",
       "      <td>1042 - 1105</td>\n",
       "      <td>2.0</td>\n",
       "      <td>54.005</td>\n",
       "      <td>2.0</td>\n",
       "    </tr>\n",
       "    <tr>\n",
       "      <th>165</th>\n",
       "      <td>Sarjapur</td>\n",
       "      <td>2 BHK</td>\n",
       "      <td>1145 - 1340</td>\n",
       "      <td>2.0</td>\n",
       "      <td>43.490</td>\n",
       "      <td>2.0</td>\n",
       "    </tr>\n",
       "    <tr>\n",
       "      <th>188</th>\n",
       "      <td>KR Puram</td>\n",
       "      <td>2 BHK</td>\n",
       "      <td>1015 - 1540</td>\n",
       "      <td>2.0</td>\n",
       "      <td>56.800</td>\n",
       "      <td>2.0</td>\n",
       "    </tr>\n",
       "    <tr>\n",
       "      <th>410</th>\n",
       "      <td>Kengeri</td>\n",
       "      <td>1 BHK</td>\n",
       "      <td>34.46Sq. Meter</td>\n",
       "      <td>1.0</td>\n",
       "      <td>18.500</td>\n",
       "      <td>1.0</td>\n",
       "    </tr>\n",
       "    <tr>\n",
       "      <th>549</th>\n",
       "      <td>Hennur Road</td>\n",
       "      <td>2 BHK</td>\n",
       "      <td>1195 - 1440</td>\n",
       "      <td>2.0</td>\n",
       "      <td>63.770</td>\n",
       "      <td>2.0</td>\n",
       "    </tr>\n",
       "    <tr>\n",
       "      <th>648</th>\n",
       "      <td>Arekere</td>\n",
       "      <td>9 Bedroom</td>\n",
       "      <td>4125Perch</td>\n",
       "      <td>9.0</td>\n",
       "      <td>265.000</td>\n",
       "      <td>9.0</td>\n",
       "    </tr>\n",
       "    <tr>\n",
       "      <th>661</th>\n",
       "      <td>Yelahanka</td>\n",
       "      <td>2 BHK</td>\n",
       "      <td>1120 - 1145</td>\n",
       "      <td>2.0</td>\n",
       "      <td>48.130</td>\n",
       "      <td>2.0</td>\n",
       "    </tr>\n",
       "    <tr>\n",
       "      <th>672</th>\n",
       "      <td>Bettahalsoor</td>\n",
       "      <td>4 Bedroom</td>\n",
       "      <td>3090 - 5002</td>\n",
       "      <td>4.0</td>\n",
       "      <td>445.000</td>\n",
       "      <td>4.0</td>\n",
       "    </tr>\n",
       "    <tr>\n",
       "      <th>772</th>\n",
       "      <td>Banashankari Stage VI</td>\n",
       "      <td>2 BHK</td>\n",
       "      <td>1160 - 1195</td>\n",
       "      <td>2.0</td>\n",
       "      <td>59.935</td>\n",
       "      <td>2.0</td>\n",
       "    </tr>\n",
       "    <tr>\n",
       "      <th>775</th>\n",
       "      <td>Basavanagara</td>\n",
       "      <td>1 BHK</td>\n",
       "      <td>1000Sq. Meter</td>\n",
       "      <td>2.0</td>\n",
       "      <td>93.000</td>\n",
       "      <td>1.0</td>\n",
       "    </tr>\n",
       "    <tr>\n",
       "      <th>850</th>\n",
       "      <td>Bannerghatta Road</td>\n",
       "      <td>2 BHK</td>\n",
       "      <td>1115 - 1130</td>\n",
       "      <td>2.0</td>\n",
       "      <td>58.935</td>\n",
       "      <td>2.0</td>\n",
       "    </tr>\n",
       "    <tr>\n",
       "      <th>872</th>\n",
       "      <td>Singapura Village</td>\n",
       "      <td>2 BHK</td>\n",
       "      <td>1100Sq. Yards</td>\n",
       "      <td>2.0</td>\n",
       "      <td>45.000</td>\n",
       "      <td>2.0</td>\n",
       "    </tr>\n",
       "    <tr>\n",
       "      <th>886</th>\n",
       "      <td>Chandapura</td>\n",
       "      <td>1 BHK</td>\n",
       "      <td>520 - 645</td>\n",
       "      <td>1.0</td>\n",
       "      <td>15.135</td>\n",
       "      <td>1.0</td>\n",
       "    </tr>\n",
       "  </tbody>\n",
       "</table>\n",
       "</div>"
      ],
      "text/plain": [
       "                  location       size      total_sqft  bath    price  bhk\n",
       "30               Yelahanka      4 BHK     2100 - 2850   4.0  186.000  4.0\n",
       "122                 Hebbal      4 BHK     3067 - 8156   4.0  477.000  4.0\n",
       "137     8th Phase JP Nagar      2 BHK     1042 - 1105   2.0   54.005  2.0\n",
       "165               Sarjapur      2 BHK     1145 - 1340   2.0   43.490  2.0\n",
       "188               KR Puram      2 BHK     1015 - 1540   2.0   56.800  2.0\n",
       "410                Kengeri      1 BHK  34.46Sq. Meter   1.0   18.500  1.0\n",
       "549            Hennur Road      2 BHK     1195 - 1440   2.0   63.770  2.0\n",
       "648                Arekere  9 Bedroom       4125Perch   9.0  265.000  9.0\n",
       "661              Yelahanka      2 BHK     1120 - 1145   2.0   48.130  2.0\n",
       "672           Bettahalsoor  4 Bedroom     3090 - 5002   4.0  445.000  4.0\n",
       "772  Banashankari Stage VI      2 BHK     1160 - 1195   2.0   59.935  2.0\n",
       "775           Basavanagara      1 BHK   1000Sq. Meter   2.0   93.000  1.0\n",
       "850      Bannerghatta Road      2 BHK     1115 - 1130   2.0   58.935  2.0\n",
       "872      Singapura Village      2 BHK   1100Sq. Yards   2.0   45.000  2.0\n",
       "886             Chandapura      1 BHK       520 - 645   1.0   15.135  1.0"
      ]
     },
     "execution_count": 22,
     "metadata": {},
     "output_type": "execute_result"
    }
   ],
   "source": [
    "df2[~df2['total_sqft'].apply(isfloat)].head(15)"
   ]
  },
  {
   "cell_type": "code",
   "execution_count": 23,
   "id": "f7b394cc-bfeb-4c91-bb51-a5e99fd2a448",
   "metadata": {},
   "outputs": [],
   "source": [
    "def sqft_to_num(x):\n",
    "    try:\n",
    "        return float(x)\n",
    "    except:\n",
    "        tokens = x.split('-')\n",
    "        if len(tokens)==2:\n",
    "            return (float(tokens[0]) + float(tokens[1]))/2\n",
    "        return None"
   ]
  },
  {
   "cell_type": "code",
   "execution_count": 24,
   "id": "966b8001-7b97-49f2-a8cd-06045f3187df",
   "metadata": {},
   "outputs": [
    {
     "name": "stdout",
     "output_type": "stream",
     "text": [
      "2475.0\n",
      "1000.0\n",
      "None\n"
     ]
    }
   ],
   "source": [
    "print(sqft_to_num('2100 - 2850'))\n",
    "print(sqft_to_num('1000'))\n",
    "print(sqft_to_num('2000Sq.Meter'))"
   ]
  },
  {
   "cell_type": "code",
   "execution_count": 25,
   "id": "0cf30c6c-b4fc-4d9c-b09e-7e2599717208",
   "metadata": {},
   "outputs": [
    {
     "data": {
      "text/html": [
       "<div>\n",
       "<style scoped>\n",
       "    .dataframe tbody tr th:only-of-type {\n",
       "        vertical-align: middle;\n",
       "    }\n",
       "\n",
       "    .dataframe tbody tr th {\n",
       "        vertical-align: top;\n",
       "    }\n",
       "\n",
       "    .dataframe thead th {\n",
       "        text-align: right;\n",
       "    }\n",
       "</style>\n",
       "<table border=\"1\" class=\"dataframe\">\n",
       "  <thead>\n",
       "    <tr style=\"text-align: right;\">\n",
       "      <th></th>\n",
       "      <th>location</th>\n",
       "      <th>size</th>\n",
       "      <th>total_sqft</th>\n",
       "      <th>bath</th>\n",
       "      <th>price</th>\n",
       "      <th>bhk</th>\n",
       "    </tr>\n",
       "  </thead>\n",
       "  <tbody>\n",
       "    <tr>\n",
       "      <th>0</th>\n",
       "      <td>Electronic City Phase II</td>\n",
       "      <td>2 BHK</td>\n",
       "      <td>1056.0</td>\n",
       "      <td>2.0</td>\n",
       "      <td>39.07</td>\n",
       "      <td>2.0</td>\n",
       "    </tr>\n",
       "    <tr>\n",
       "      <th>1</th>\n",
       "      <td>Chikka Tirupathi</td>\n",
       "      <td>4 Bedroom</td>\n",
       "      <td>2600.0</td>\n",
       "      <td>5.0</td>\n",
       "      <td>120.00</td>\n",
       "      <td>4.0</td>\n",
       "    </tr>\n",
       "    <tr>\n",
       "      <th>2</th>\n",
       "      <td>Uttarahalli</td>\n",
       "      <td>3 BHK</td>\n",
       "      <td>1440.0</td>\n",
       "      <td>2.0</td>\n",
       "      <td>62.00</td>\n",
       "      <td>3.0</td>\n",
       "    </tr>\n",
       "    <tr>\n",
       "      <th>3</th>\n",
       "      <td>Lingadheeranahalli</td>\n",
       "      <td>3 BHK</td>\n",
       "      <td>1521.0</td>\n",
       "      <td>3.0</td>\n",
       "      <td>95.00</td>\n",
       "      <td>3.0</td>\n",
       "    </tr>\n",
       "    <tr>\n",
       "      <th>4</th>\n",
       "      <td>Kothanur</td>\n",
       "      <td>2 BHK</td>\n",
       "      <td>1200.0</td>\n",
       "      <td>2.0</td>\n",
       "      <td>51.00</td>\n",
       "      <td>2.0</td>\n",
       "    </tr>\n",
       "    <tr>\n",
       "      <th>5</th>\n",
       "      <td>Whitefield</td>\n",
       "      <td>2 BHK</td>\n",
       "      <td>1170.0</td>\n",
       "      <td>2.0</td>\n",
       "      <td>38.00</td>\n",
       "      <td>2.0</td>\n",
       "    </tr>\n",
       "    <tr>\n",
       "      <th>6</th>\n",
       "      <td>Old Airport Road</td>\n",
       "      <td>4 BHK</td>\n",
       "      <td>2732.0</td>\n",
       "      <td>4.0</td>\n",
       "      <td>204.00</td>\n",
       "      <td>4.0</td>\n",
       "    </tr>\n",
       "    <tr>\n",
       "      <th>7</th>\n",
       "      <td>Rajaji Nagar</td>\n",
       "      <td>4 BHK</td>\n",
       "      <td>3300.0</td>\n",
       "      <td>4.0</td>\n",
       "      <td>600.00</td>\n",
       "      <td>4.0</td>\n",
       "    </tr>\n",
       "    <tr>\n",
       "      <th>8</th>\n",
       "      <td>Marathahalli</td>\n",
       "      <td>3 BHK</td>\n",
       "      <td>1310.0</td>\n",
       "      <td>3.0</td>\n",
       "      <td>63.25</td>\n",
       "      <td>3.0</td>\n",
       "    </tr>\n",
       "    <tr>\n",
       "      <th>9</th>\n",
       "      <td>Gandhi Bazar</td>\n",
       "      <td>6 Bedroom</td>\n",
       "      <td>1020.0</td>\n",
       "      <td>6.0</td>\n",
       "      <td>370.00</td>\n",
       "      <td>6.0</td>\n",
       "    </tr>\n",
       "  </tbody>\n",
       "</table>\n",
       "</div>"
      ],
      "text/plain": [
       "                   location       size  total_sqft  bath   price  bhk\n",
       "0  Electronic City Phase II      2 BHK      1056.0   2.0   39.07  2.0\n",
       "1          Chikka Tirupathi  4 Bedroom      2600.0   5.0  120.00  4.0\n",
       "2               Uttarahalli      3 BHK      1440.0   2.0   62.00  3.0\n",
       "3        Lingadheeranahalli      3 BHK      1521.0   3.0   95.00  3.0\n",
       "4                  Kothanur      2 BHK      1200.0   2.0   51.00  2.0\n",
       "5                Whitefield      2 BHK      1170.0   2.0   38.00  2.0\n",
       "6          Old Airport Road      4 BHK      2732.0   4.0  204.00  4.0\n",
       "7              Rajaji Nagar      4 BHK      3300.0   4.0  600.00  4.0\n",
       "8              Marathahalli      3 BHK      1310.0   3.0   63.25  3.0\n",
       "9              Gandhi Bazar  6 Bedroom      1020.0   6.0  370.00  6.0"
      ]
     },
     "execution_count": 25,
     "metadata": {},
     "output_type": "execute_result"
    }
   ],
   "source": [
    "#Deep copy\n",
    "df3 = df2.copy()\n",
    "df3['total_sqft'] = df2['total_sqft'].apply(sqft_to_num)\n",
    "df3.head(10)"
   ]
  },
  {
   "cell_type": "code",
   "execution_count": 26,
   "id": "e7e34575-8da6-43eb-a3e3-07a4e3ebdd78",
   "metadata": {},
   "outputs": [
    {
     "data": {
      "text/plain": [
       "location      Yelahanka\n",
       "size              4 BHK\n",
       "total_sqft       2475.0\n",
       "bath                4.0\n",
       "price             186.0\n",
       "bhk                 4.0\n",
       "Name: 30, dtype: object"
      ]
     },
     "execution_count": 26,
     "metadata": {},
     "output_type": "execute_result"
    }
   ],
   "source": [
    "#let's check an example\n",
    "df3.iloc[30]"
   ]
  },
  {
   "cell_type": "code",
   "execution_count": 27,
   "id": "b481eeb9-564c-4175-9e8d-0fadbf11099c",
   "metadata": {},
   "outputs": [
    {
     "data": {
      "text/plain": [
       "(13245, 6)"
      ]
     },
     "execution_count": 27,
     "metadata": {},
     "output_type": "execute_result"
    }
   ],
   "source": [
    "df3.shape"
   ]
  },
  {
   "cell_type": "code",
   "execution_count": 28,
   "id": "3f6f98da-2887-486a-ab08-1b320bfb58d8",
   "metadata": {},
   "outputs": [],
   "source": [
    "def modify_location(x):\n",
    "    x=str(x)\n",
    "    x = x.lower()\n",
    "    x=x.strip()\n",
    "    return x"
   ]
  },
  {
   "cell_type": "code",
   "execution_count": 29,
   "id": "cb1a23b3-bbbd-43d6-bfb7-3d3946269949",
   "metadata": {},
   "outputs": [
    {
     "data": {
      "text/plain": [
       "'test'"
      ]
     },
     "execution_count": 29,
     "metadata": {},
     "output_type": "execute_result"
    }
   ],
   "source": [
    "modify_location(' Test ')"
   ]
  },
  {
   "cell_type": "code",
   "execution_count": 30,
   "id": "d2b269a6-d59f-49c9-bd25-2e9f6d75f3df",
   "metadata": {},
   "outputs": [],
   "source": [
    "df3['location'] = df['location'].apply(modify_location)"
   ]
  },
  {
   "cell_type": "code",
   "execution_count": 31,
   "id": "22d21d52-f024-49cb-9895-262124594d43",
   "metadata": {},
   "outputs": [
    {
     "data": {
      "text/plain": [
       "location\n",
       "whitefield               535\n",
       "sarjapur  road           392\n",
       "electronic city          304\n",
       "kanakpura road           266\n",
       "thanisandra              236\n",
       "                        ... \n",
       "kamanahalli main road      1\n",
       "kamdhenu nagar             1\n",
       "1 giri nagar               1\n",
       "kanakadasa layout          1\n",
       "zuzuvadi                   1\n",
       "Name: location, Length: 1282, dtype: int64"
      ]
     },
     "execution_count": 31,
     "metadata": {},
     "output_type": "execute_result"
    }
   ],
   "source": [
    "#Grouping and Sorting all different types of locations  \n",
    "loc_stats = df3.groupby('location')['location'].count().sort_values(ascending=False)\n",
    "loc_stats"
   ]
  },
  {
   "cell_type": "code",
   "execution_count": 32,
   "id": "06b44d0e-a930-4216-932c-76df67a802e5",
   "metadata": {},
   "outputs": [
    {
     "data": {
      "text/plain": [
       "1282"
      ]
     },
     "execution_count": 32,
     "metadata": {},
     "output_type": "execute_result"
    }
   ],
   "source": [
    "len(df3['location'].unique())"
   ]
  },
  {
   "cell_type": "markdown",
   "id": "b8339e43-98f0-4fc3-ac6e-c8d27fbe1f1a",
   "metadata": {},
   "source": [
    "##### There are 1282 different types of location...large for dataset having about 12000 rows\n",
    "##### Further lot of locations have only 1-2 rows only\n",
    "##### This causes high dimensionality problem or dimensionality curse"
   ]
  },
  {
   "cell_type": "code",
   "execution_count": 33,
   "id": "48ae7370-34f4-49ff-81f7-c6bf58051c17",
   "metadata": {},
   "outputs": [
    {
     "data": {
      "text/plain": [
       "1041"
      ]
     },
     "execution_count": 33,
     "metadata": {},
     "output_type": "execute_result"
    }
   ],
   "source": [
    "len(loc_stats[loc_stats<=10])"
   ]
  },
  {
   "cell_type": "code",
   "execution_count": 34,
   "id": "8f0f84cd-d45e-4603-bff8-798f74ec4c71",
   "metadata": {},
   "outputs": [
    {
     "data": {
      "text/plain": [
       "location\n",
       "nagappa reddy layout     10\n",
       "sadashiva nagar          10\n",
       "dodsworth layout         10\n",
       "1st block koramangala    10\n",
       "basapura                 10\n",
       "                         ..\n",
       "kamanahalli main road     1\n",
       "kamdhenu nagar            1\n",
       "1 giri nagar              1\n",
       "kanakadasa layout         1\n",
       "zuzuvadi                  1\n",
       "Name: location, Length: 1041, dtype: int64"
      ]
     },
     "execution_count": 34,
     "metadata": {},
     "output_type": "execute_result"
    }
   ],
   "source": [
    "other_cat = loc_stats[loc_stats<=10]\n",
    "other_cat"
   ]
  },
  {
   "cell_type": "markdown",
   "id": "7ddf0731-815c-47b2-8890-02601ef664c7",
   "metadata": {},
   "source": [
    "##### Now we can put all locations where number of rows<=10 in other category"
   ]
  },
  {
   "cell_type": "code",
   "execution_count": 35,
   "id": "56b9d319-eebb-43ed-9ce6-1766aef5adbf",
   "metadata": {},
   "outputs": [],
   "source": [
    "df4 = df3.copy()\n",
    "df4['location'] = df4['location'].apply(lambda x: 'other' if x in other_cat else x)"
   ]
  },
  {
   "cell_type": "code",
   "execution_count": 36,
   "id": "3b562eae-c3b2-49c4-9970-4f37f9131ad8",
   "metadata": {},
   "outputs": [
    {
     "data": {
      "text/plain": [
       "location\n",
       "other                 2881\n",
       "whitefield             535\n",
       "sarjapur  road         392\n",
       "electronic city        304\n",
       "kanakpura road         266\n",
       "                      ... \n",
       "banjara layout          11\n",
       "tindlu                  11\n",
       "kodigehalli             11\n",
       "hal 2nd stage           11\n",
       "pattandur agrahara      11\n",
       "Name: location, Length: 242, dtype: int64"
      ]
     },
     "execution_count": 36,
     "metadata": {},
     "output_type": "execute_result"
    }
   ],
   "source": [
    "df4.groupby('location')['location'].count().sort_values(ascending=False)"
   ]
  },
  {
   "cell_type": "code",
   "execution_count": 37,
   "id": "36d2815d-5ccc-4f8f-a07e-66694e1b4c54",
   "metadata": {},
   "outputs": [
    {
     "data": {
      "text/plain": [
       "242"
      ]
     },
     "execution_count": 37,
     "metadata": {},
     "output_type": "execute_result"
    }
   ],
   "source": [
    "len(df4['location'].unique())"
   ]
  },
  {
   "cell_type": "markdown",
   "id": "5b288944-61bc-41b2-befe-c420e366bdb3",
   "metadata": {},
   "source": [
    "#### Feature Engineering: Adding a new column of price_per_sqft"
   ]
  },
  {
   "cell_type": "code",
   "execution_count": 38,
   "id": "cf1a01a0-9cb5-4d12-a590-3ed59329c928",
   "metadata": {},
   "outputs": [
    {
     "data": {
      "text/html": [
       "<div>\n",
       "<style scoped>\n",
       "    .dataframe tbody tr th:only-of-type {\n",
       "        vertical-align: middle;\n",
       "    }\n",
       "\n",
       "    .dataframe tbody tr th {\n",
       "        vertical-align: top;\n",
       "    }\n",
       "\n",
       "    .dataframe thead th {\n",
       "        text-align: right;\n",
       "    }\n",
       "</style>\n",
       "<table border=\"1\" class=\"dataframe\">\n",
       "  <thead>\n",
       "    <tr style=\"text-align: right;\">\n",
       "      <th></th>\n",
       "      <th>location</th>\n",
       "      <th>size</th>\n",
       "      <th>total_sqft</th>\n",
       "      <th>bath</th>\n",
       "      <th>price</th>\n",
       "      <th>bhk</th>\n",
       "      <th>price_per_sqft</th>\n",
       "    </tr>\n",
       "  </thead>\n",
       "  <tbody>\n",
       "    <tr>\n",
       "      <th>0</th>\n",
       "      <td>electronic city phase ii</td>\n",
       "      <td>2 BHK</td>\n",
       "      <td>1056.0</td>\n",
       "      <td>2.0</td>\n",
       "      <td>39.07</td>\n",
       "      <td>2.0</td>\n",
       "      <td>3699.810606</td>\n",
       "    </tr>\n",
       "    <tr>\n",
       "      <th>1</th>\n",
       "      <td>chikka tirupathi</td>\n",
       "      <td>4 Bedroom</td>\n",
       "      <td>2600.0</td>\n",
       "      <td>5.0</td>\n",
       "      <td>120.00</td>\n",
       "      <td>4.0</td>\n",
       "      <td>4615.384615</td>\n",
       "    </tr>\n",
       "    <tr>\n",
       "      <th>2</th>\n",
       "      <td>uttarahalli</td>\n",
       "      <td>3 BHK</td>\n",
       "      <td>1440.0</td>\n",
       "      <td>2.0</td>\n",
       "      <td>62.00</td>\n",
       "      <td>3.0</td>\n",
       "      <td>4305.555556</td>\n",
       "    </tr>\n",
       "    <tr>\n",
       "      <th>3</th>\n",
       "      <td>lingadheeranahalli</td>\n",
       "      <td>3 BHK</td>\n",
       "      <td>1521.0</td>\n",
       "      <td>3.0</td>\n",
       "      <td>95.00</td>\n",
       "      <td>3.0</td>\n",
       "      <td>6245.890861</td>\n",
       "    </tr>\n",
       "    <tr>\n",
       "      <th>4</th>\n",
       "      <td>kothanur</td>\n",
       "      <td>2 BHK</td>\n",
       "      <td>1200.0</td>\n",
       "      <td>2.0</td>\n",
       "      <td>51.00</td>\n",
       "      <td>2.0</td>\n",
       "      <td>4250.000000</td>\n",
       "    </tr>\n",
       "    <tr>\n",
       "      <th>5</th>\n",
       "      <td>whitefield</td>\n",
       "      <td>2 BHK</td>\n",
       "      <td>1170.0</td>\n",
       "      <td>2.0</td>\n",
       "      <td>38.00</td>\n",
       "      <td>2.0</td>\n",
       "      <td>3247.863248</td>\n",
       "    </tr>\n",
       "    <tr>\n",
       "      <th>6</th>\n",
       "      <td>old airport road</td>\n",
       "      <td>4 BHK</td>\n",
       "      <td>2732.0</td>\n",
       "      <td>4.0</td>\n",
       "      <td>204.00</td>\n",
       "      <td>4.0</td>\n",
       "      <td>7467.057101</td>\n",
       "    </tr>\n",
       "    <tr>\n",
       "      <th>7</th>\n",
       "      <td>rajaji nagar</td>\n",
       "      <td>4 BHK</td>\n",
       "      <td>3300.0</td>\n",
       "      <td>4.0</td>\n",
       "      <td>600.00</td>\n",
       "      <td>4.0</td>\n",
       "      <td>18181.818182</td>\n",
       "    </tr>\n",
       "    <tr>\n",
       "      <th>8</th>\n",
       "      <td>marathahalli</td>\n",
       "      <td>3 BHK</td>\n",
       "      <td>1310.0</td>\n",
       "      <td>3.0</td>\n",
       "      <td>63.25</td>\n",
       "      <td>3.0</td>\n",
       "      <td>4828.244275</td>\n",
       "    </tr>\n",
       "    <tr>\n",
       "      <th>9</th>\n",
       "      <td>other</td>\n",
       "      <td>6 Bedroom</td>\n",
       "      <td>1020.0</td>\n",
       "      <td>6.0</td>\n",
       "      <td>370.00</td>\n",
       "      <td>6.0</td>\n",
       "      <td>36274.509804</td>\n",
       "    </tr>\n",
       "  </tbody>\n",
       "</table>\n",
       "</div>"
      ],
      "text/plain": [
       "                   location       size  total_sqft  bath   price  bhk  \\\n",
       "0  electronic city phase ii      2 BHK      1056.0   2.0   39.07  2.0   \n",
       "1          chikka tirupathi  4 Bedroom      2600.0   5.0  120.00  4.0   \n",
       "2               uttarahalli      3 BHK      1440.0   2.0   62.00  3.0   \n",
       "3        lingadheeranahalli      3 BHK      1521.0   3.0   95.00  3.0   \n",
       "4                  kothanur      2 BHK      1200.0   2.0   51.00  2.0   \n",
       "5                whitefield      2 BHK      1170.0   2.0   38.00  2.0   \n",
       "6          old airport road      4 BHK      2732.0   4.0  204.00  4.0   \n",
       "7              rajaji nagar      4 BHK      3300.0   4.0  600.00  4.0   \n",
       "8              marathahalli      3 BHK      1310.0   3.0   63.25  3.0   \n",
       "9                     other  6 Bedroom      1020.0   6.0  370.00  6.0   \n",
       "\n",
       "   price_per_sqft  \n",
       "0     3699.810606  \n",
       "1     4615.384615  \n",
       "2     4305.555556  \n",
       "3     6245.890861  \n",
       "4     4250.000000  \n",
       "5     3247.863248  \n",
       "6     7467.057101  \n",
       "7    18181.818182  \n",
       "8     4828.244275  \n",
       "9    36274.509804  "
      ]
     },
     "execution_count": 38,
     "metadata": {},
     "output_type": "execute_result"
    }
   ],
   "source": [
    "df4['price_per_sqft'] = df4['price']*100000/df4['total_sqft']\n",
    "df4.head(10)"
   ]
  },
  {
   "cell_type": "markdown",
   "id": "00638388-2f77-4c18-bbc2-0a109abf03f5",
   "metadata": {},
   "source": [
    "#### Outlier Removal\n",
    "In statistics, an outlier is a data point that differs significantly from other observations <br>\n",
    "It may be an error or just an extreme variation of data which is good to be removed <br>\n",
    "We have done one before (43 bhk)"
   ]
  },
  {
   "cell_type": "markdown",
   "id": "792ab3be-97a8-481d-9b34-dd053dc16807",
   "metadata": {},
   "source": [
    "##### 1. Let's see bhk vs area"
   ]
  },
  {
   "cell_type": "code",
   "execution_count": 39,
   "id": "48b9b470-9ff8-4782-952f-8b5e669e5434",
   "metadata": {},
   "outputs": [
    {
     "data": {
      "text/plain": [
       "(13245, 7)"
      ]
     },
     "execution_count": 39,
     "metadata": {},
     "output_type": "execute_result"
    }
   ],
   "source": [
    "#if we consider that 1000sq.ft home has max. of 5 bedrooms, like 200sq.ft is the threshold\n",
    "#let's be more extreme, thresold = 150\n",
    "df4.shape"
   ]
  },
  {
   "cell_type": "code",
   "execution_count": 40,
   "id": "45ebca45-3986-4dd7-8107-27bc1ab9138c",
   "metadata": {},
   "outputs": [
    {
     "data": {
      "text/html": [
       "<div>\n",
       "<style scoped>\n",
       "    .dataframe tbody tr th:only-of-type {\n",
       "        vertical-align: middle;\n",
       "    }\n",
       "\n",
       "    .dataframe tbody tr th {\n",
       "        vertical-align: top;\n",
       "    }\n",
       "\n",
       "    .dataframe thead th {\n",
       "        text-align: right;\n",
       "    }\n",
       "</style>\n",
       "<table border=\"1\" class=\"dataframe\">\n",
       "  <thead>\n",
       "    <tr style=\"text-align: right;\">\n",
       "      <th></th>\n",
       "      <th>location</th>\n",
       "      <th>size</th>\n",
       "      <th>total_sqft</th>\n",
       "      <th>bath</th>\n",
       "      <th>price</th>\n",
       "      <th>bhk</th>\n",
       "      <th>price_per_sqft</th>\n",
       "    </tr>\n",
       "  </thead>\n",
       "  <tbody>\n",
       "    <tr>\n",
       "      <th>45</th>\n",
       "      <td>hsr layout</td>\n",
       "      <td>8 Bedroom</td>\n",
       "      <td>600.0</td>\n",
       "      <td>9.0</td>\n",
       "      <td>200.0</td>\n",
       "      <td>8.0</td>\n",
       "      <td>33333.333333</td>\n",
       "    </tr>\n",
       "    <tr>\n",
       "      <th>89</th>\n",
       "      <td>rajaji nagar</td>\n",
       "      <td>6 Bedroom</td>\n",
       "      <td>710.0</td>\n",
       "      <td>6.0</td>\n",
       "      <td>160.0</td>\n",
       "      <td>6.0</td>\n",
       "      <td>22535.211268</td>\n",
       "    </tr>\n",
       "    <tr>\n",
       "      <th>119</th>\n",
       "      <td>hennur road</td>\n",
       "      <td>2 Bedroom</td>\n",
       "      <td>276.0</td>\n",
       "      <td>3.0</td>\n",
       "      <td>23.0</td>\n",
       "      <td>2.0</td>\n",
       "      <td>8333.333333</td>\n",
       "    </tr>\n",
       "    <tr>\n",
       "      <th>129</th>\n",
       "      <td>vishwapriya layout</td>\n",
       "      <td>7 Bedroom</td>\n",
       "      <td>950.0</td>\n",
       "      <td>7.0</td>\n",
       "      <td>115.0</td>\n",
       "      <td>7.0</td>\n",
       "      <td>12105.263158</td>\n",
       "    </tr>\n",
       "    <tr>\n",
       "      <th>176</th>\n",
       "      <td>kumaraswami layout</td>\n",
       "      <td>5 Bedroom</td>\n",
       "      <td>600.0</td>\n",
       "      <td>3.0</td>\n",
       "      <td>85.0</td>\n",
       "      <td>5.0</td>\n",
       "      <td>14166.666667</td>\n",
       "    </tr>\n",
       "    <tr>\n",
       "      <th>...</th>\n",
       "      <td>...</td>\n",
       "      <td>...</td>\n",
       "      <td>...</td>\n",
       "      <td>...</td>\n",
       "      <td>...</td>\n",
       "      <td>...</td>\n",
       "      <td>...</td>\n",
       "    </tr>\n",
       "    <tr>\n",
       "      <th>12942</th>\n",
       "      <td>other</td>\n",
       "      <td>6 Bedroom</td>\n",
       "      <td>625.0</td>\n",
       "      <td>3.0</td>\n",
       "      <td>78.0</td>\n",
       "      <td>6.0</td>\n",
       "      <td>12480.000000</td>\n",
       "    </tr>\n",
       "    <tr>\n",
       "      <th>13023</th>\n",
       "      <td>hegde nagar</td>\n",
       "      <td>6 Bedroom</td>\n",
       "      <td>760.0</td>\n",
       "      <td>6.0</td>\n",
       "      <td>98.0</td>\n",
       "      <td>6.0</td>\n",
       "      <td>12894.736842</td>\n",
       "    </tr>\n",
       "    <tr>\n",
       "      <th>13045</th>\n",
       "      <td>other</td>\n",
       "      <td>6 Bedroom</td>\n",
       "      <td>600.0</td>\n",
       "      <td>6.0</td>\n",
       "      <td>65.0</td>\n",
       "      <td>6.0</td>\n",
       "      <td>10833.333333</td>\n",
       "    </tr>\n",
       "    <tr>\n",
       "      <th>13112</th>\n",
       "      <td>nagavara</td>\n",
       "      <td>3 Bedroom</td>\n",
       "      <td>440.0</td>\n",
       "      <td>3.0</td>\n",
       "      <td>35.0</td>\n",
       "      <td>3.0</td>\n",
       "      <td>7954.545455</td>\n",
       "    </tr>\n",
       "    <tr>\n",
       "      <th>13221</th>\n",
       "      <td>other</td>\n",
       "      <td>9 Bedroom</td>\n",
       "      <td>1178.0</td>\n",
       "      <td>9.0</td>\n",
       "      <td>75.0</td>\n",
       "      <td>9.0</td>\n",
       "      <td>6366.723260</td>\n",
       "    </tr>\n",
       "  </tbody>\n",
       "</table>\n",
       "<p>148 rows × 7 columns</p>\n",
       "</div>"
      ],
      "text/plain": [
       "                 location       size  total_sqft  bath  price  bhk  \\\n",
       "45             hsr layout  8 Bedroom       600.0   9.0  200.0  8.0   \n",
       "89           rajaji nagar  6 Bedroom       710.0   6.0  160.0  6.0   \n",
       "119           hennur road  2 Bedroom       276.0   3.0   23.0  2.0   \n",
       "129    vishwapriya layout  7 Bedroom       950.0   7.0  115.0  7.0   \n",
       "176    kumaraswami layout  5 Bedroom       600.0   3.0   85.0  5.0   \n",
       "...                   ...        ...         ...   ...    ...  ...   \n",
       "12942               other  6 Bedroom       625.0   3.0   78.0  6.0   \n",
       "13023         hegde nagar  6 Bedroom       760.0   6.0   98.0  6.0   \n",
       "13045               other  6 Bedroom       600.0   6.0   65.0  6.0   \n",
       "13112            nagavara  3 Bedroom       440.0   3.0   35.0  3.0   \n",
       "13221               other  9 Bedroom      1178.0   9.0   75.0  9.0   \n",
       "\n",
       "       price_per_sqft  \n",
       "45       33333.333333  \n",
       "89       22535.211268  \n",
       "119       8333.333333  \n",
       "129      12105.263158  \n",
       "176      14166.666667  \n",
       "...               ...  \n",
       "12942    12480.000000  \n",
       "13023    12894.736842  \n",
       "13045    10833.333333  \n",
       "13112     7954.545455  \n",
       "13221     6366.723260  \n",
       "\n",
       "[148 rows x 7 columns]"
      ]
     },
     "execution_count": 40,
     "metadata": {},
     "output_type": "execute_result"
    }
   ],
   "source": [
    "df4[df4['total_sqft']/df4['bhk']<150]"
   ]
  },
  {
   "cell_type": "code",
   "execution_count": 41,
   "id": "abe56038-42dd-453d-9b65-62f770b7ebdb",
   "metadata": {},
   "outputs": [
    {
     "data": {
      "text/plain": [
       "(12974, 7)"
      ]
     },
     "execution_count": 41,
     "metadata": {},
     "output_type": "execute_result"
    }
   ],
   "source": [
    "#maybe some of them are true, but they are extreme examples which should be avoided \n",
    "df5 = df4[df4['total_sqft']/df4['bhk']>150]\n",
    "df5.shape"
   ]
  },
  {
   "cell_type": "markdown",
   "id": "a11e7c6d-52dc-4ad4-87bc-55fe2beeb016",
   "metadata": {},
   "source": [
    "##### 2. Price per sqaure feet"
   ]
  },
  {
   "cell_type": "code",
   "execution_count": 42,
   "id": "5d64aa01-4677-40e2-9427-3ec27b0224ef",
   "metadata": {},
   "outputs": [
    {
     "data": {
      "text/plain": [
       "count     12974.000000\n",
       "mean       6553.925861\n",
       "std        4394.296022\n",
       "min         267.829813\n",
       "25%        4250.000000\n",
       "50%        5390.625000\n",
       "75%        7152.535169\n",
       "max      176470.588235\n",
       "Name: price_per_sqft, dtype: float64"
      ]
     },
     "execution_count": 42,
     "metadata": {},
     "output_type": "execute_result"
    }
   ],
   "source": [
    "df5['price_per_sqft'].describe()"
   ]
  },
  {
   "cell_type": "markdown",
   "id": "b49b079b-93a4-42b5-b5ae-55d3c7b36c33",
   "metadata": {},
   "source": [
    "##### 267 per sq.ft. is extremely rare and 176470 per sq.ft. may occur in prime places, but both are extreme cases and better to ignore"
   ]
  },
  {
   "cell_type": "markdown",
   "id": "ab90f034-7d63-4404-9920-859e37bbc06e",
   "metadata": {},
   "source": [
    "##### Around 68% data lies within 1 S.D. and 95% around 2 S.D. and about 99.7 around 3 S.D. "
   ]
  },
  {
   "cell_type": "code",
   "execution_count": 43,
   "id": "02bedf71-5cba-4bf5-848f-f848ff3f225b",
   "metadata": {},
   "outputs": [],
   "source": [
    "def outlier_ppsf_remover(df_):\n",
    "    '''It will remove the outlier points according to location.\n",
    "    It will first group according to location and then remove the outlier'''\n",
    "    df_out = pd.DataFrame()\n",
    "    for key, chunkdf in df_.groupby('location'):\n",
    "        m = np.mean(chunkdf['price_per_sqft'])\n",
    "        sd = np.std(chunkdf['price_per_sqft'])\n",
    "        df_temp = chunkdf[~((chunkdf['price_per_sqft']>(m+sd)) | (chunkdf['price_per_sqft']<(m-sd)))]\n",
    "        df_out = pd.concat([df_out,df_temp],ignore_index=True)\n",
    "    return df_out\n",
    "        "
   ]
  },
  {
   "cell_type": "code",
   "execution_count": 44,
   "id": "031f35da-c013-4a7c-b485-00c4d4a0163e",
   "metadata": {},
   "outputs": [
    {
     "data": {
      "text/plain": [
       "(10752, 7)"
      ]
     },
     "execution_count": 44,
     "metadata": {},
     "output_type": "execute_result"
    }
   ],
   "source": [
    "df6 = outlier_ppsf_remover(df5)\n",
    "df6.shape"
   ]
  },
  {
   "cell_type": "markdown",
   "id": "56abecb7-1d0c-4f94-9bba-ebc7f166e0a9",
   "metadata": {},
   "source": [
    "More than 2000 outliers removed from dataset"
   ]
  },
  {
   "cell_type": "code",
   "execution_count": 45,
   "id": "9f8975b6-86c6-4639-8559-54018776768e",
   "metadata": {},
   "outputs": [],
   "source": [
    "def scatter(df_,location):\n",
    "    '''\n",
    "    It will take a dataframe and a location as input\n",
    "    It will plot a scatter plot of 1 bhk, 2bhk and 3bhk flats (total_sqft vs price)\n",
    "    It can help us read data and find anomalies\n",
    "    '''\n",
    "    bhk1 = df_[(df_['location']==location) & (df_['bhk']==1)]\n",
    "    bhk2 = df_[(df_['location']==location) & (df_['bhk']==2)]\n",
    "    bhk3 = df_[(df_['location']==location) & (df_['bhk']==3)]\n",
    "    plt.scatter(bhk1['total_sqft'],bhk1['price'],color='red',label='1 BHK',marker='^')\n",
    "    plt.scatter(bhk2['total_sqft'],bhk2['price'],color='blue',label='2 BHK',marker='o')\n",
    "    plt.scatter(bhk3['total_sqft'],bhk3['price'],color='green',label='3 BHK',marker='x')\n",
    "    plt.xlabel(\"Total Square Feet Area\")\n",
    "    plt.ylabel(\"Price\")\n",
    "    plt.title(location)\n",
    "    plt.legend()"
   ]
  },
  {
   "cell_type": "code",
   "execution_count": 46,
   "id": "80fbc544-c9f3-44f6-9931-e810b4918834",
   "metadata": {},
   "outputs": [
    {
     "data": {
      "image/png": "[encoded data removed]",
      "text/plain": [
       "<Figure size 1200x1000 with 1 Axes>"
      ]
     },
     "metadata": {},
     "output_type": "display_data"
    }
   ],
   "source": [
    "#eg place: rajaji nagar\n",
    "scatter(df6,'rajaji nagar')"
   ]
  },
  {
   "cell_type": "markdown",
   "id": "e50ed2f7-b2ce-4fb3-96e7-9e6a885883a0",
   "metadata": {},
   "source": [
    "There are some abnormal points - from 1500 to 2000 sqft. there are some places where 2bhk is more costly than 3 bhks for the same area of same location  - may be due to some factors but removing then will normalize our dataset\"\n",
    "<br>\n",
    "We should remove properties of same location, where the price of 2bhk is more than 3 bhk for the same sqft"
   ]
  },
  {
   "cell_type": "markdown",
   "id": "ecd08d3f-e53f-4986-9126-50d4fa20860c",
   "metadata": {},
   "source": [
    "##### We can remove those 2 BHK appartments whose price_per_sqft is less then mean price_per_sqft of 1 BHK appartment"
   ]
  },
  {
   "cell_type": "code",
   "execution_count": 47,
   "id": "10c40ce7-bb82-40b8-aa32-db90ebe0c597",
   "metadata": {},
   "outputs": [],
   "source": [
    "def remove_bhk_outlier(df_):\n",
    "    '''\n",
    "    This function removes all 2 BHK appartments whose price_per_sqft is less then mean price_per_sqft of 1 BHK appartment,\n",
    "    all 3 BHK appartments whose price_per_sqft is less than mean of 2 BHK,.. and so on\n",
    "    In short, it removes all points that seems to be anomaly\n",
    "    '''\n",
    "    exclusions = np.array([])\n",
    "    #array of exclusion indexes (anomaly points) which needs to be dropped\n",
    "    for location, location_df in df_.groupby('location'):\n",
    "        #first grouping by location\n",
    "        bhk_stats = {}\n",
    "        for bhk, bhk_df in location_df.groupby('bhk'):\n",
    "            #nested loop to further group by 'bhk'\n",
    "            #dictionary within dictionary\n",
    "            bhk_stats[bhk] = {\n",
    "                'mean': np.mean(bhk_df['price_per_sqft']),\n",
    "                'std': np.std(bhk_df['price_per_sqft']),\n",
    "                'count': bhk_df.shape[0]\n",
    "            }\n",
    "        for bhk,bhk_df in location_df.groupby('bhk'):\n",
    "            stats = bhk_stats.get(bhk-1)       #dict\n",
    "            # 1 bhk less appartment, for removing 2bhk outliers we need stats of 1 bhk appartments\n",
    "            if stats and stats['count']>5:\n",
    "                exclusions = np.append(exclusions, bhk_df[bhk_df['price_per_sqft']<(stats['mean'])].index.values)\n",
    "    return df_.drop(exclusions,axis='index')\n"
   ]
  },
  {
   "cell_type": "code",
   "execution_count": 48,
   "id": "fc489032-8abf-49c5-bc42-1fc5d578f219",
   "metadata": {},
   "outputs": [],
   "source": [
    "df7 = remove_bhk_outlier(df6)"
   ]
  },
  {
   "cell_type": "code",
   "execution_count": 49,
   "id": "7a8f931f-a246-4cbe-90b0-5e12a80f86c9",
   "metadata": {},
   "outputs": [
    {
     "data": {
      "image/png": "[encoded data removed]",
      "text/plain": [
       "<Figure size 1200x1000 with 1 Axes>"
      ]
     },
     "metadata": {},
     "output_type": "display_data"
    }
   ],
   "source": [
    "scatter(df7,'rajaji nagar')"
   ]
  },
  {
   "cell_type": "markdown",
   "id": "e39bfd43-fff7-4fd7-9ba8-2abcb21bf5d9",
   "metadata": {},
   "source": [
    "Anomaly 3BHK appartments removed"
   ]
  },
  {
   "cell_type": "code",
   "execution_count": 50,
   "id": "3f5fa055-2c69-4770-90aa-2d17ed07cb65",
   "metadata": {},
   "outputs": [
    {
     "data": {
      "text/plain": [
       "(7694, 7)"
      ]
     },
     "execution_count": 50,
     "metadata": {},
     "output_type": "execute_result"
    }
   ],
   "source": [
    "df7.shape"
   ]
  },
  {
   "cell_type": "code",
   "execution_count": 51,
   "id": "3fcb43eb-4c32-49bc-b1e4-7b50c6488a19",
   "metadata": {},
   "outputs": [
    {
     "data": {
      "text/plain": [
       "Text(0, 0.5, 'Count')"
      ]
     },
     "execution_count": 51,
     "metadata": {},
     "output_type": "execute_result"
    },
    {
     "data": {
      "image/png": "[encoded data removed]",
      "text/plain": [
       "<Figure size 1200x1000 with 1 Axes>"
      ]
     },
     "metadata": {},
     "output_type": "display_data"
    }
   ],
   "source": [
    "#histogram to visualize the dataset\n",
    "plt.hist(df7['price_per_sqft'],rwidth=0.9)\n",
    "#rwidth refers to the width of the rectangle (0.9 to ensure spacing)\n",
    "plt.xlabel('Price per square foot')\n",
    "plt.ylabel('Count')"
   ]
  },
  {
   "cell_type": "markdown",
   "id": "5c91ffe5-ede3-45e5-94ee-9fe34398a95a",
   "metadata": {},
   "source": [
    "#### Normal distribution of data - similar to a bell curve "
   ]
  },
  {
   "cell_type": "markdown",
   "id": "e1f61f3d-7a9b-4305-867d-758898cbb81f",
   "metadata": {},
   "source": [
    "##### 3. Bathrooms"
   ]
  },
  {
   "cell_type": "code",
   "execution_count": 52,
   "id": "ae50ee67-9953-4343-b3d9-8ff0fcfe1af5",
   "metadata": {},
   "outputs": [
    {
     "data": {
      "text/plain": [
       "array([ 4.,  3.,  6.,  2.,  5.,  1.,  8.,  7.,  9., 12., 27., 10., 16.,\n",
       "       13.])"
      ]
     },
     "execution_count": 52,
     "metadata": {},
     "output_type": "execute_result"
    }
   ],
   "source": [
    "df7['bath'].unique()"
   ]
  },
  {
   "cell_type": "code",
   "execution_count": 53,
   "id": "ed89d3a9-2048-4218-8803-6ef52e5f24eb",
   "metadata": {},
   "outputs": [
    {
     "data": {
      "text/html": [
       "<div>\n",
       "<style scoped>\n",
       "    .dataframe tbody tr th:only-of-type {\n",
       "        vertical-align: middle;\n",
       "    }\n",
       "\n",
       "    .dataframe tbody tr th {\n",
       "        vertical-align: top;\n",
       "    }\n",
       "\n",
       "    .dataframe thead th {\n",
       "        text-align: right;\n",
       "    }\n",
       "</style>\n",
       "<table border=\"1\" class=\"dataframe\">\n",
       "  <thead>\n",
       "    <tr style=\"text-align: right;\">\n",
       "      <th></th>\n",
       "      <th>location</th>\n",
       "      <th>size</th>\n",
       "      <th>total_sqft</th>\n",
       "      <th>bath</th>\n",
       "      <th>price</th>\n",
       "      <th>bhk</th>\n",
       "      <th>price_per_sqft</th>\n",
       "    </tr>\n",
       "  </thead>\n",
       "  <tbody>\n",
       "    <tr>\n",
       "      <th>5514</th>\n",
       "      <td>neeladri nagar</td>\n",
       "      <td>10 BHK</td>\n",
       "      <td>4000.0</td>\n",
       "      <td>12.0</td>\n",
       "      <td>160.0</td>\n",
       "      <td>10.0</td>\n",
       "      <td>4000.000000</td>\n",
       "    </tr>\n",
       "    <tr>\n",
       "      <th>5959</th>\n",
       "      <td>other</td>\n",
       "      <td>27 BHK</td>\n",
       "      <td>8000.0</td>\n",
       "      <td>27.0</td>\n",
       "      <td>230.0</td>\n",
       "      <td>27.0</td>\n",
       "      <td>2875.000000</td>\n",
       "    </tr>\n",
       "    <tr>\n",
       "      <th>6302</th>\n",
       "      <td>other</td>\n",
       "      <td>16 BHK</td>\n",
       "      <td>10000.0</td>\n",
       "      <td>16.0</td>\n",
       "      <td>550.0</td>\n",
       "      <td>16.0</td>\n",
       "      <td>5500.000000</td>\n",
       "    </tr>\n",
       "    <tr>\n",
       "      <th>7087</th>\n",
       "      <td>other</td>\n",
       "      <td>11 BHK</td>\n",
       "      <td>6000.0</td>\n",
       "      <td>12.0</td>\n",
       "      <td>150.0</td>\n",
       "      <td>11.0</td>\n",
       "      <td>2500.000000</td>\n",
       "    </tr>\n",
       "    <tr>\n",
       "      <th>7438</th>\n",
       "      <td>other</td>\n",
       "      <td>13 BHK</td>\n",
       "      <td>5425.0</td>\n",
       "      <td>13.0</td>\n",
       "      <td>275.0</td>\n",
       "      <td>13.0</td>\n",
       "      <td>5069.124424</td>\n",
       "    </tr>\n",
       "  </tbody>\n",
       "</table>\n",
       "</div>"
      ],
      "text/plain": [
       "            location    size  total_sqft  bath  price   bhk  price_per_sqft\n",
       "5514  neeladri nagar  10 BHK      4000.0  12.0  160.0  10.0     4000.000000\n",
       "5959           other  27 BHK      8000.0  27.0  230.0  27.0     2875.000000\n",
       "6302           other  16 BHK     10000.0  16.0  550.0  16.0     5500.000000\n",
       "7087           other  11 BHK      6000.0  12.0  150.0  11.0     2500.000000\n",
       "7438           other  13 BHK      5425.0  13.0  275.0  13.0     5069.124424"
      ]
     },
     "execution_count": 53,
     "metadata": {},
     "output_type": "execute_result"
    }
   ],
   "source": [
    "df7[df7['bath']>10]"
   ]
  },
  {
   "cell_type": "code",
   "execution_count": 54,
   "id": "a3adf78b-0e59-4406-bfd5-9528c9cdc95a",
   "metadata": {},
   "outputs": [
    {
     "data": {
      "text/plain": [
       "Text(0, 0.5, 'Count')"
      ]
     },
     "execution_count": 54,
     "metadata": {},
     "output_type": "execute_result"
    },
    {
     "data": {
      "image/png": "[encoded data removed]",
      "text/plain": [
       "<Figure size 1200x1000 with 1 Axes>"
      ]
     },
     "metadata": {},
     "output_type": "display_data"
    }
   ],
   "source": [
    "#histogram of number of bathrooms\n",
    "plt.hist(df7['bath'],rwidth=0.8)\n",
    "plt.xlabel(\"Number of bathrooms\")\n",
    "plt.ylabel(\"Count\")"
   ]
  },
  {
   "cell_type": "code",
   "execution_count": 55,
   "id": "436768cb-7856-414a-8d16-3e476acbd316",
   "metadata": {},
   "outputs": [
    {
     "data": {
      "text/plain": [
       "6"
      ]
     },
     "execution_count": 55,
     "metadata": {},
     "output_type": "execute_result"
    }
   ],
   "source": [
    "#Let's remove outlier exammples where number of bathrooms > number opf bedrooms + 2\n",
    "len(df7[df7['bath']>df7['bhk']+2])"
   ]
  },
  {
   "cell_type": "code",
   "execution_count": 56,
   "id": "63f6130c-bf98-4558-bfca-b890c15c5ed0",
   "metadata": {},
   "outputs": [
    {
     "data": {
      "text/plain": [
       "(7688, 7)"
      ]
     },
     "execution_count": 56,
     "metadata": {},
     "output_type": "execute_result"
    }
   ],
   "source": [
    "df8 = df7[df7['bath']<=df7['bhk']+2]\n",
    "df8.shape"
   ]
  },
  {
   "cell_type": "code",
   "execution_count": 57,
   "id": "9cbf6000-737c-444c-a650-b2ac9d45161b",
   "metadata": {},
   "outputs": [
    {
     "data": {
      "text/html": [
       "<div>\n",
       "<style scoped>\n",
       "    .dataframe tbody tr th:only-of-type {\n",
       "        vertical-align: middle;\n",
       "    }\n",
       "\n",
       "    .dataframe tbody tr th {\n",
       "        vertical-align: top;\n",
       "    }\n",
       "\n",
       "    .dataframe thead th {\n",
       "        text-align: right;\n",
       "    }\n",
       "</style>\n",
       "<table border=\"1\" class=\"dataframe\">\n",
       "  <thead>\n",
       "    <tr style=\"text-align: right;\">\n",
       "      <th></th>\n",
       "      <th>location</th>\n",
       "      <th>size</th>\n",
       "      <th>total_sqft</th>\n",
       "      <th>bath</th>\n",
       "      <th>price</th>\n",
       "      <th>bhk</th>\n",
       "      <th>price_per_sqft</th>\n",
       "    </tr>\n",
       "  </thead>\n",
       "  <tbody>\n",
       "    <tr>\n",
       "      <th>0</th>\n",
       "      <td>1st block jayanagar</td>\n",
       "      <td>4 BHK</td>\n",
       "      <td>2850.0</td>\n",
       "      <td>4.0</td>\n",
       "      <td>428.0</td>\n",
       "      <td>4.0</td>\n",
       "      <td>15017.543860</td>\n",
       "    </tr>\n",
       "    <tr>\n",
       "      <th>1</th>\n",
       "      <td>1st block jayanagar</td>\n",
       "      <td>3 BHK</td>\n",
       "      <td>1630.0</td>\n",
       "      <td>3.0</td>\n",
       "      <td>194.0</td>\n",
       "      <td>3.0</td>\n",
       "      <td>11901.840491</td>\n",
       "    </tr>\n",
       "    <tr>\n",
       "      <th>2</th>\n",
       "      <td>1st block jayanagar</td>\n",
       "      <td>6 BHK</td>\n",
       "      <td>1200.0</td>\n",
       "      <td>6.0</td>\n",
       "      <td>125.0</td>\n",
       "      <td>6.0</td>\n",
       "      <td>10416.666667</td>\n",
       "    </tr>\n",
       "    <tr>\n",
       "      <th>3</th>\n",
       "      <td>1st block jayanagar</td>\n",
       "      <td>3 BHK</td>\n",
       "      <td>1875.0</td>\n",
       "      <td>2.0</td>\n",
       "      <td>235.0</td>\n",
       "      <td>3.0</td>\n",
       "      <td>12533.333333</td>\n",
       "    </tr>\n",
       "    <tr>\n",
       "      <th>4</th>\n",
       "      <td>1st block jayanagar</td>\n",
       "      <td>3 BHK</td>\n",
       "      <td>1200.0</td>\n",
       "      <td>2.0</td>\n",
       "      <td>130.0</td>\n",
       "      <td>3.0</td>\n",
       "      <td>10833.333333</td>\n",
       "    </tr>\n",
       "  </tbody>\n",
       "</table>\n",
       "</div>"
      ],
      "text/plain": [
       "              location   size  total_sqft  bath  price  bhk  price_per_sqft\n",
       "0  1st block jayanagar  4 BHK      2850.0   4.0  428.0  4.0    15017.543860\n",
       "1  1st block jayanagar  3 BHK      1630.0   3.0  194.0  3.0    11901.840491\n",
       "2  1st block jayanagar  6 BHK      1200.0   6.0  125.0  6.0    10416.666667\n",
       "3  1st block jayanagar  3 BHK      1875.0   2.0  235.0  3.0    12533.333333\n",
       "4  1st block jayanagar  3 BHK      1200.0   2.0  130.0  3.0    10833.333333"
      ]
     },
     "execution_count": 57,
     "metadata": {},
     "output_type": "execute_result"
    }
   ],
   "source": [
    "df8.head(5)"
   ]
  },
  {
   "cell_type": "code",
   "execution_count": 58,
   "id": "2535c6b1-b24c-439b-8556-911deb3af542",
   "metadata": {},
   "outputs": [
    {
     "data": {
      "text/html": [
       "<div>\n",
       "<style scoped>\n",
       "    .dataframe tbody tr th:only-of-type {\n",
       "        vertical-align: middle;\n",
       "    }\n",
       "\n",
       "    .dataframe tbody tr th {\n",
       "        vertical-align: top;\n",
       "    }\n",
       "\n",
       "    .dataframe thead th {\n",
       "        text-align: right;\n",
       "    }\n",
       "</style>\n",
       "<table border=\"1\" class=\"dataframe\">\n",
       "  <thead>\n",
       "    <tr style=\"text-align: right;\">\n",
       "      <th></th>\n",
       "      <th>location</th>\n",
       "      <th>total_sqft</th>\n",
       "      <th>bath</th>\n",
       "      <th>price</th>\n",
       "      <th>bhk</th>\n",
       "    </tr>\n",
       "  </thead>\n",
       "  <tbody>\n",
       "    <tr>\n",
       "      <th>0</th>\n",
       "      <td>1st block jayanagar</td>\n",
       "      <td>2850.0</td>\n",
       "      <td>4.0</td>\n",
       "      <td>428.0</td>\n",
       "      <td>4.0</td>\n",
       "    </tr>\n",
       "    <tr>\n",
       "      <th>1</th>\n",
       "      <td>1st block jayanagar</td>\n",
       "      <td>1630.0</td>\n",
       "      <td>3.0</td>\n",
       "      <td>194.0</td>\n",
       "      <td>3.0</td>\n",
       "    </tr>\n",
       "    <tr>\n",
       "      <th>2</th>\n",
       "      <td>1st block jayanagar</td>\n",
       "      <td>1200.0</td>\n",
       "      <td>6.0</td>\n",
       "      <td>125.0</td>\n",
       "      <td>6.0</td>\n",
       "    </tr>\n",
       "    <tr>\n",
       "      <th>3</th>\n",
       "      <td>1st block jayanagar</td>\n",
       "      <td>1875.0</td>\n",
       "      <td>2.0</td>\n",
       "      <td>235.0</td>\n",
       "      <td>3.0</td>\n",
       "    </tr>\n",
       "    <tr>\n",
       "      <th>4</th>\n",
       "      <td>1st block jayanagar</td>\n",
       "      <td>1200.0</td>\n",
       "      <td>2.0</td>\n",
       "      <td>130.0</td>\n",
       "      <td>3.0</td>\n",
       "    </tr>\n",
       "  </tbody>\n",
       "</table>\n",
       "</div>"
      ],
      "text/plain": [
       "              location  total_sqft  bath  price  bhk\n",
       "0  1st block jayanagar      2850.0   4.0  428.0  4.0\n",
       "1  1st block jayanagar      1630.0   3.0  194.0  3.0\n",
       "2  1st block jayanagar      1200.0   6.0  125.0  6.0\n",
       "3  1st block jayanagar      1875.0   2.0  235.0  3.0\n",
       "4  1st block jayanagar      1200.0   2.0  130.0  3.0"
      ]
     },
     "execution_count": 58,
     "metadata": {},
     "output_type": "execute_result"
    }
   ],
   "source": [
    "#dropping unecessary columns from dataframe before training the model\n",
    "df9 = df8.drop(['size','price_per_sqft'],axis='columns')\n",
    "df9.head(5)"
   ]
  },
  {
   "cell_type": "markdown",
   "id": "1e43e818-e275-4d3f-989a-b3485aa28221",
   "metadata": {},
   "source": [
    "### Building the Linear Regression Model"
   ]
  },
  {
   "cell_type": "markdown",
   "id": "f1a6dc07-6535-4b6f-88bc-46407f333368",
   "metadata": {},
   "source": [
    "'location' is a column with text value so it cannot be directly processed with the model.<br>\n",
    "To convert text into numerical info we can use <b>One Hot Encoding<b/>"
   ]
  },
  {
   "cell_type": "code",
   "execution_count": 59,
   "id": "ce062a94-5212-4a1d-9213-5ba0010bc452",
   "metadata": {},
   "outputs": [
    {
     "data": {
      "text/html": [
       "<div>\n",
       "<style scoped>\n",
       "    .dataframe tbody tr th:only-of-type {\n",
       "        vertical-align: middle;\n",
       "    }\n",
       "\n",
       "    .dataframe tbody tr th {\n",
       "        vertical-align: top;\n",
       "    }\n",
       "\n",
       "    .dataframe thead th {\n",
       "        text-align: right;\n",
       "    }\n",
       "</style>\n",
       "<table border=\"1\" class=\"dataframe\">\n",
       "  <thead>\n",
       "    <tr style=\"text-align: right;\">\n",
       "      <th></th>\n",
       "      <th>total_sqft</th>\n",
       "      <th>bath</th>\n",
       "      <th>price</th>\n",
       "      <th>bhk</th>\n",
       "      <th>location_1st block jayanagar</th>\n",
       "      <th>location_1st phase jp nagar</th>\n",
       "      <th>location_2nd phase judicial layout</th>\n",
       "      <th>location_2nd stage nagarbhavi</th>\n",
       "      <th>location_5th block hbr layout</th>\n",
       "      <th>location_5th phase jp nagar</th>\n",
       "      <th>...</th>\n",
       "      <th>location_vijayanagar</th>\n",
       "      <th>location_vishveshwarya layout</th>\n",
       "      <th>location_vishwapriya layout</th>\n",
       "      <th>location_vittasandra</th>\n",
       "      <th>location_whitefield</th>\n",
       "      <th>location_yelachenahalli</th>\n",
       "      <th>location_yelahanka</th>\n",
       "      <th>location_yelahanka new town</th>\n",
       "      <th>location_yelenahalli</th>\n",
       "      <th>location_yeshwanthpur</th>\n",
       "    </tr>\n",
       "  </thead>\n",
       "  <tbody>\n",
       "    <tr>\n",
       "      <th>0</th>\n",
       "      <td>2850.0</td>\n",
       "      <td>4.0</td>\n",
       "      <td>428.0</td>\n",
       "      <td>4.0</td>\n",
       "      <td>1</td>\n",
       "      <td>0</td>\n",
       "      <td>0</td>\n",
       "      <td>0</td>\n",
       "      <td>0</td>\n",
       "      <td>0</td>\n",
       "      <td>...</td>\n",
       "      <td>0</td>\n",
       "      <td>0</td>\n",
       "      <td>0</td>\n",
       "      <td>0</td>\n",
       "      <td>0</td>\n",
       "      <td>0</td>\n",
       "      <td>0</td>\n",
       "      <td>0</td>\n",
       "      <td>0</td>\n",
       "      <td>0</td>\n",
       "    </tr>\n",
       "    <tr>\n",
       "      <th>1</th>\n",
       "      <td>1630.0</td>\n",
       "      <td>3.0</td>\n",
       "      <td>194.0</td>\n",
       "      <td>3.0</td>\n",
       "      <td>1</td>\n",
       "      <td>0</td>\n",
       "      <td>0</td>\n",
       "      <td>0</td>\n",
       "      <td>0</td>\n",
       "      <td>0</td>\n",
       "      <td>...</td>\n",
       "      <td>0</td>\n",
       "      <td>0</td>\n",
       "      <td>0</td>\n",
       "      <td>0</td>\n",
       "      <td>0</td>\n",
       "      <td>0</td>\n",
       "      <td>0</td>\n",
       "      <td>0</td>\n",
       "      <td>0</td>\n",
       "      <td>0</td>\n",
       "    </tr>\n",
       "    <tr>\n",
       "      <th>2</th>\n",
       "      <td>1200.0</td>\n",
       "      <td>6.0</td>\n",
       "      <td>125.0</td>\n",
       "      <td>6.0</td>\n",
       "      <td>1</td>\n",
       "      <td>0</td>\n",
       "      <td>0</td>\n",
       "      <td>0</td>\n",
       "      <td>0</td>\n",
       "      <td>0</td>\n",
       "      <td>...</td>\n",
       "      <td>0</td>\n",
       "      <td>0</td>\n",
       "      <td>0</td>\n",
       "      <td>0</td>\n",
       "      <td>0</td>\n",
       "      <td>0</td>\n",
       "      <td>0</td>\n",
       "      <td>0</td>\n",
       "      <td>0</td>\n",
       "      <td>0</td>\n",
       "    </tr>\n",
       "    <tr>\n",
       "      <th>3</th>\n",
       "      <td>1875.0</td>\n",
       "      <td>2.0</td>\n",
       "      <td>235.0</td>\n",
       "      <td>3.0</td>\n",
       "      <td>1</td>\n",
       "      <td>0</td>\n",
       "      <td>0</td>\n",
       "      <td>0</td>\n",
       "      <td>0</td>\n",
       "      <td>0</td>\n",
       "      <td>...</td>\n",
       "      <td>0</td>\n",
       "      <td>0</td>\n",
       "      <td>0</td>\n",
       "      <td>0</td>\n",
       "      <td>0</td>\n",
       "      <td>0</td>\n",
       "      <td>0</td>\n",
       "      <td>0</td>\n",
       "      <td>0</td>\n",
       "      <td>0</td>\n",
       "    </tr>\n",
       "    <tr>\n",
       "      <th>4</th>\n",
       "      <td>1200.0</td>\n",
       "      <td>2.0</td>\n",
       "      <td>130.0</td>\n",
       "      <td>3.0</td>\n",
       "      <td>1</td>\n",
       "      <td>0</td>\n",
       "      <td>0</td>\n",
       "      <td>0</td>\n",
       "      <td>0</td>\n",
       "      <td>0</td>\n",
       "      <td>...</td>\n",
       "      <td>0</td>\n",
       "      <td>0</td>\n",
       "      <td>0</td>\n",
       "      <td>0</td>\n",
       "      <td>0</td>\n",
       "      <td>0</td>\n",
       "      <td>0</td>\n",
       "      <td>0</td>\n",
       "      <td>0</td>\n",
       "      <td>0</td>\n",
       "    </tr>\n",
       "  </tbody>\n",
       "</table>\n",
       "<p>5 rows × 246 columns</p>\n",
       "</div>"
      ],
      "text/plain": [
       "   total_sqft  bath  price  bhk  location_1st block jayanagar  \\\n",
       "0      2850.0   4.0  428.0  4.0                             1   \n",
       "1      1630.0   3.0  194.0  3.0                             1   \n",
       "2      1200.0   6.0  125.0  6.0                             1   \n",
       "3      1875.0   2.0  235.0  3.0                             1   \n",
       "4      1200.0   2.0  130.0  3.0                             1   \n",
       "\n",
       "   location_1st phase jp nagar  location_2nd phase judicial layout  \\\n",
       "0                            0                                   0   \n",
       "1                            0                                   0   \n",
       "2                            0                                   0   \n",
       "3                            0                                   0   \n",
       "4                            0                                   0   \n",
       "\n",
       "   location_2nd stage nagarbhavi  location_5th block hbr layout  \\\n",
       "0                              0                              0   \n",
       "1                              0                              0   \n",
       "2                              0                              0   \n",
       "3                              0                              0   \n",
       "4                              0                              0   \n",
       "\n",
       "   location_5th phase jp nagar  ...  location_vijayanagar  \\\n",
       "0                            0  ...                     0   \n",
       "1                            0  ...                     0   \n",
       "2                            0  ...                     0   \n",
       "3                            0  ...                     0   \n",
       "4                            0  ...                     0   \n",
       "\n",
       "   location_vishveshwarya layout  location_vishwapriya layout  \\\n",
       "0                              0                            0   \n",
       "1                              0                            0   \n",
       "2                              0                            0   \n",
       "3                              0                            0   \n",
       "4                              0                            0   \n",
       "\n",
       "   location_vittasandra  location_whitefield  location_yelachenahalli  \\\n",
       "0                     0                    0                        0   \n",
       "1                     0                    0                        0   \n",
       "2                     0                    0                        0   \n",
       "3                     0                    0                        0   \n",
       "4                     0                    0                        0   \n",
       "\n",
       "   location_yelahanka  location_yelahanka new town  location_yelenahalli  \\\n",
       "0                   0                            0                     0   \n",
       "1                   0                            0                     0   \n",
       "2                   0                            0                     0   \n",
       "3                   0                            0                     0   \n",
       "4                   0                            0                     0   \n",
       "\n",
       "   location_yeshwanthpur  \n",
       "0                      0  \n",
       "1                      0  \n",
       "2                      0  \n",
       "3                      0  \n",
       "4                      0  \n",
       "\n",
       "[5 rows x 246 columns]"
      ]
     },
     "execution_count": 59,
     "metadata": {},
     "output_type": "execute_result"
    }
   ],
   "source": [
    "one_hot_encoded_data = pd.get_dummies(df9, columns = ['location'],dtype='int16')\n",
    "one_hot_encoded_data.head()"
   ]
  },
  {
   "cell_type": "markdown",
   "id": "d46318d8-0c7e-42bb-8b6a-e945b947875a",
   "metadata": {},
   "source": [
    "In series of column created in one-hot-encoding one column always has 1 <br>\n",
    "We can reduce one column from the dataframe (previous: 1 0 0 0 new: 0 0 0) - if we drop the first column <br>\n",
    "Hence dropping the 'other' column in dataframe"
   ]
  },
  {
   "cell_type": "code",
   "execution_count": 60,
   "id": "031f71e5-0929-4d3e-b1b6-9bd8e6f1b7c3",
   "metadata": {},
   "outputs": [
    {
     "data": {
      "text/html": [
       "<div>\n",
       "<style scoped>\n",
       "    .dataframe tbody tr th:only-of-type {\n",
       "        vertical-align: middle;\n",
       "    }\n",
       "\n",
       "    .dataframe tbody tr th {\n",
       "        vertical-align: top;\n",
       "    }\n",
       "\n",
       "    .dataframe thead th {\n",
       "        text-align: right;\n",
       "    }\n",
       "</style>\n",
       "<table border=\"1\" class=\"dataframe\">\n",
       "  <thead>\n",
       "    <tr style=\"text-align: right;\">\n",
       "      <th></th>\n",
       "      <th>total_sqft</th>\n",
       "      <th>bath</th>\n",
       "      <th>price</th>\n",
       "      <th>bhk</th>\n",
       "      <th>location_1st block jayanagar</th>\n",
       "      <th>location_1st phase jp nagar</th>\n",
       "      <th>location_2nd phase judicial layout</th>\n",
       "      <th>location_2nd stage nagarbhavi</th>\n",
       "      <th>location_5th block hbr layout</th>\n",
       "      <th>location_5th phase jp nagar</th>\n",
       "      <th>...</th>\n",
       "      <th>location_vijayanagar</th>\n",
       "      <th>location_vishveshwarya layout</th>\n",
       "      <th>location_vishwapriya layout</th>\n",
       "      <th>location_vittasandra</th>\n",
       "      <th>location_whitefield</th>\n",
       "      <th>location_yelachenahalli</th>\n",
       "      <th>location_yelahanka</th>\n",
       "      <th>location_yelahanka new town</th>\n",
       "      <th>location_yelenahalli</th>\n",
       "      <th>location_yeshwanthpur</th>\n",
       "    </tr>\n",
       "  </thead>\n",
       "  <tbody>\n",
       "    <tr>\n",
       "      <th>0</th>\n",
       "      <td>2850.0</td>\n",
       "      <td>4.0</td>\n",
       "      <td>428.0</td>\n",
       "      <td>4.0</td>\n",
       "      <td>1</td>\n",
       "      <td>0</td>\n",
       "      <td>0</td>\n",
       "      <td>0</td>\n",
       "      <td>0</td>\n",
       "      <td>0</td>\n",
       "      <td>...</td>\n",
       "      <td>0</td>\n",
       "      <td>0</td>\n",
       "      <td>0</td>\n",
       "      <td>0</td>\n",
       "      <td>0</td>\n",
       "      <td>0</td>\n",
       "      <td>0</td>\n",
       "      <td>0</td>\n",
       "      <td>0</td>\n",
       "      <td>0</td>\n",
       "    </tr>\n",
       "    <tr>\n",
       "      <th>1</th>\n",
       "      <td>1630.0</td>\n",
       "      <td>3.0</td>\n",
       "      <td>194.0</td>\n",
       "      <td>3.0</td>\n",
       "      <td>1</td>\n",
       "      <td>0</td>\n",
       "      <td>0</td>\n",
       "      <td>0</td>\n",
       "      <td>0</td>\n",
       "      <td>0</td>\n",
       "      <td>...</td>\n",
       "      <td>0</td>\n",
       "      <td>0</td>\n",
       "      <td>0</td>\n",
       "      <td>0</td>\n",
       "      <td>0</td>\n",
       "      <td>0</td>\n",
       "      <td>0</td>\n",
       "      <td>0</td>\n",
       "      <td>0</td>\n",
       "      <td>0</td>\n",
       "    </tr>\n",
       "    <tr>\n",
       "      <th>2</th>\n",
       "      <td>1200.0</td>\n",
       "      <td>6.0</td>\n",
       "      <td>125.0</td>\n",
       "      <td>6.0</td>\n",
       "      <td>1</td>\n",
       "      <td>0</td>\n",
       "      <td>0</td>\n",
       "      <td>0</td>\n",
       "      <td>0</td>\n",
       "      <td>0</td>\n",
       "      <td>...</td>\n",
       "      <td>0</td>\n",
       "      <td>0</td>\n",
       "      <td>0</td>\n",
       "      <td>0</td>\n",
       "      <td>0</td>\n",
       "      <td>0</td>\n",
       "      <td>0</td>\n",
       "      <td>0</td>\n",
       "      <td>0</td>\n",
       "      <td>0</td>\n",
       "    </tr>\n",
       "    <tr>\n",
       "      <th>3</th>\n",
       "      <td>1875.0</td>\n",
       "      <td>2.0</td>\n",
       "      <td>235.0</td>\n",
       "      <td>3.0</td>\n",
       "      <td>1</td>\n",
       "      <td>0</td>\n",
       "      <td>0</td>\n",
       "      <td>0</td>\n",
       "      <td>0</td>\n",
       "      <td>0</td>\n",
       "      <td>...</td>\n",
       "      <td>0</td>\n",
       "      <td>0</td>\n",
       "      <td>0</td>\n",
       "      <td>0</td>\n",
       "      <td>0</td>\n",
       "      <td>0</td>\n",
       "      <td>0</td>\n",
       "      <td>0</td>\n",
       "      <td>0</td>\n",
       "      <td>0</td>\n",
       "    </tr>\n",
       "    <tr>\n",
       "      <th>4</th>\n",
       "      <td>1200.0</td>\n",
       "      <td>2.0</td>\n",
       "      <td>130.0</td>\n",
       "      <td>3.0</td>\n",
       "      <td>1</td>\n",
       "      <td>0</td>\n",
       "      <td>0</td>\n",
       "      <td>0</td>\n",
       "      <td>0</td>\n",
       "      <td>0</td>\n",
       "      <td>...</td>\n",
       "      <td>0</td>\n",
       "      <td>0</td>\n",
       "      <td>0</td>\n",
       "      <td>0</td>\n",
       "      <td>0</td>\n",
       "      <td>0</td>\n",
       "      <td>0</td>\n",
       "      <td>0</td>\n",
       "      <td>0</td>\n",
       "      <td>0</td>\n",
       "    </tr>\n",
       "  </tbody>\n",
       "</table>\n",
       "<p>5 rows × 245 columns</p>\n",
       "</div>"
      ],
      "text/plain": [
       "   total_sqft  bath  price  bhk  location_1st block jayanagar  \\\n",
       "0      2850.0   4.0  428.0  4.0                             1   \n",
       "1      1630.0   3.0  194.0  3.0                             1   \n",
       "2      1200.0   6.0  125.0  6.0                             1   \n",
       "3      1875.0   2.0  235.0  3.0                             1   \n",
       "4      1200.0   2.0  130.0  3.0                             1   \n",
       "\n",
       "   location_1st phase jp nagar  location_2nd phase judicial layout  \\\n",
       "0                            0                                   0   \n",
       "1                            0                                   0   \n",
       "2                            0                                   0   \n",
       "3                            0                                   0   \n",
       "4                            0                                   0   \n",
       "\n",
       "   location_2nd stage nagarbhavi  location_5th block hbr layout  \\\n",
       "0                              0                              0   \n",
       "1                              0                              0   \n",
       "2                              0                              0   \n",
       "3                              0                              0   \n",
       "4                              0                              0   \n",
       "\n",
       "   location_5th phase jp nagar  ...  location_vijayanagar  \\\n",
       "0                            0  ...                     0   \n",
       "1                            0  ...                     0   \n",
       "2                            0  ...                     0   \n",
       "3                            0  ...                     0   \n",
       "4                            0  ...                     0   \n",
       "\n",
       "   location_vishveshwarya layout  location_vishwapriya layout  \\\n",
       "0                              0                            0   \n",
       "1                              0                            0   \n",
       "2                              0                            0   \n",
       "3                              0                            0   \n",
       "4                              0                            0   \n",
       "\n",
       "   location_vittasandra  location_whitefield  location_yelachenahalli  \\\n",
       "0                     0                    0                        0   \n",
       "1                     0                    0                        0   \n",
       "2                     0                    0                        0   \n",
       "3                     0                    0                        0   \n",
       "4                     0                    0                        0   \n",
       "\n",
       "   location_yelahanka  location_yelahanka new town  location_yelenahalli  \\\n",
       "0                   0                            0                     0   \n",
       "1                   0                            0                     0   \n",
       "2                   0                            0                     0   \n",
       "3                   0                            0                     0   \n",
       "4                   0                            0                     0   \n",
       "\n",
       "   location_yeshwanthpur  \n",
       "0                      0  \n",
       "1                      0  \n",
       "2                      0  \n",
       "3                      0  \n",
       "4                      0  \n",
       "\n",
       "[5 rows x 245 columns]"
      ]
     },
     "execution_count": 60,
     "metadata": {},
     "output_type": "execute_result"
    }
   ],
   "source": [
    "df10 = one_hot_encoded_data.drop('location_other',axis='columns')\n",
    "df10.head()"
   ]
  },
  {
   "cell_type": "code",
   "execution_count": 61,
   "id": "292a32e0-10ac-4125-8de2-4f083b0127ba",
   "metadata": {},
   "outputs": [
    {
     "data": {
      "text/plain": [
       "(7688, 245)"
      ]
     },
     "execution_count": 61,
     "metadata": {},
     "output_type": "execute_result"
    }
   ],
   "source": [
    "df10.shape"
   ]
  },
  {
   "cell_type": "code",
   "execution_count": 62,
   "id": "26506904-4520-4aea-89ec-bf8a7b9c8c99",
   "metadata": {},
   "outputs": [
    {
     "data": {
      "text/html": [
       "<div>\n",
       "<style scoped>\n",
       "    .dataframe tbody tr th:only-of-type {\n",
       "        vertical-align: middle;\n",
       "    }\n",
       "\n",
       "    .dataframe tbody tr th {\n",
       "        vertical-align: top;\n",
       "    }\n",
       "\n",
       "    .dataframe thead th {\n",
       "        text-align: right;\n",
       "    }\n",
       "</style>\n",
       "<table border=\"1\" class=\"dataframe\">\n",
       "  <thead>\n",
       "    <tr style=\"text-align: right;\">\n",
       "      <th></th>\n",
       "      <th>total_sqft</th>\n",
       "      <th>bath</th>\n",
       "      <th>bhk</th>\n",
       "      <th>location_1st block jayanagar</th>\n",
       "      <th>location_1st phase jp nagar</th>\n",
       "      <th>location_2nd phase judicial layout</th>\n",
       "      <th>location_2nd stage nagarbhavi</th>\n",
       "      <th>location_5th block hbr layout</th>\n",
       "      <th>location_5th phase jp nagar</th>\n",
       "      <th>location_6th phase jp nagar</th>\n",
       "      <th>...</th>\n",
       "      <th>location_vijayanagar</th>\n",
       "      <th>location_vishveshwarya layout</th>\n",
       "      <th>location_vishwapriya layout</th>\n",
       "      <th>location_vittasandra</th>\n",
       "      <th>location_whitefield</th>\n",
       "      <th>location_yelachenahalli</th>\n",
       "      <th>location_yelahanka</th>\n",
       "      <th>location_yelahanka new town</th>\n",
       "      <th>location_yelenahalli</th>\n",
       "      <th>location_yeshwanthpur</th>\n",
       "    </tr>\n",
       "  </thead>\n",
       "  <tbody>\n",
       "    <tr>\n",
       "      <th>0</th>\n",
       "      <td>2850.0</td>\n",
       "      <td>4.0</td>\n",
       "      <td>4.0</td>\n",
       "      <td>1</td>\n",
       "      <td>0</td>\n",
       "      <td>0</td>\n",
       "      <td>0</td>\n",
       "      <td>0</td>\n",
       "      <td>0</td>\n",
       "      <td>0</td>\n",
       "      <td>...</td>\n",
       "      <td>0</td>\n",
       "      <td>0</td>\n",
       "      <td>0</td>\n",
       "      <td>0</td>\n",
       "      <td>0</td>\n",
       "      <td>0</td>\n",
       "      <td>0</td>\n",
       "      <td>0</td>\n",
       "      <td>0</td>\n",
       "      <td>0</td>\n",
       "    </tr>\n",
       "    <tr>\n",
       "      <th>1</th>\n",
       "      <td>1630.0</td>\n",
       "      <td>3.0</td>\n",
       "      <td>3.0</td>\n",
       "      <td>1</td>\n",
       "      <td>0</td>\n",
       "      <td>0</td>\n",
       "      <td>0</td>\n",
       "      <td>0</td>\n",
       "      <td>0</td>\n",
       "      <td>0</td>\n",
       "      <td>...</td>\n",
       "      <td>0</td>\n",
       "      <td>0</td>\n",
       "      <td>0</td>\n",
       "      <td>0</td>\n",
       "      <td>0</td>\n",
       "      <td>0</td>\n",
       "      <td>0</td>\n",
       "      <td>0</td>\n",
       "      <td>0</td>\n",
       "      <td>0</td>\n",
       "    </tr>\n",
       "    <tr>\n",
       "      <th>2</th>\n",
       "      <td>1200.0</td>\n",
       "      <td>6.0</td>\n",
       "      <td>6.0</td>\n",
       "      <td>1</td>\n",
       "      <td>0</td>\n",
       "      <td>0</td>\n",
       "      <td>0</td>\n",
       "      <td>0</td>\n",
       "      <td>0</td>\n",
       "      <td>0</td>\n",
       "      <td>...</td>\n",
       "      <td>0</td>\n",
       "      <td>0</td>\n",
       "      <td>0</td>\n",
       "      <td>0</td>\n",
       "      <td>0</td>\n",
       "      <td>0</td>\n",
       "      <td>0</td>\n",
       "      <td>0</td>\n",
       "      <td>0</td>\n",
       "      <td>0</td>\n",
       "    </tr>\n",
       "    <tr>\n",
       "      <th>3</th>\n",
       "      <td>1875.0</td>\n",
       "      <td>2.0</td>\n",
       "      <td>3.0</td>\n",
       "      <td>1</td>\n",
       "      <td>0</td>\n",
       "      <td>0</td>\n",
       "      <td>0</td>\n",
       "      <td>0</td>\n",
       "      <td>0</td>\n",
       "      <td>0</td>\n",
       "      <td>...</td>\n",
       "      <td>0</td>\n",
       "      <td>0</td>\n",
       "      <td>0</td>\n",
       "      <td>0</td>\n",
       "      <td>0</td>\n",
       "      <td>0</td>\n",
       "      <td>0</td>\n",
       "      <td>0</td>\n",
       "      <td>0</td>\n",
       "      <td>0</td>\n",
       "    </tr>\n",
       "    <tr>\n",
       "      <th>4</th>\n",
       "      <td>1200.0</td>\n",
       "      <td>2.0</td>\n",
       "      <td>3.0</td>\n",
       "      <td>1</td>\n",
       "      <td>0</td>\n",
       "      <td>0</td>\n",
       "      <td>0</td>\n",
       "      <td>0</td>\n",
       "      <td>0</td>\n",
       "      <td>0</td>\n",
       "      <td>...</td>\n",
       "      <td>0</td>\n",
       "      <td>0</td>\n",
       "      <td>0</td>\n",
       "      <td>0</td>\n",
       "      <td>0</td>\n",
       "      <td>0</td>\n",
       "      <td>0</td>\n",
       "      <td>0</td>\n",
       "      <td>0</td>\n",
       "      <td>0</td>\n",
       "    </tr>\n",
       "  </tbody>\n",
       "</table>\n",
       "<p>5 rows × 244 columns</p>\n",
       "</div>"
      ],
      "text/plain": [
       "   total_sqft  bath  bhk  location_1st block jayanagar  \\\n",
       "0      2850.0   4.0  4.0                             1   \n",
       "1      1630.0   3.0  3.0                             1   \n",
       "2      1200.0   6.0  6.0                             1   \n",
       "3      1875.0   2.0  3.0                             1   \n",
       "4      1200.0   2.0  3.0                             1   \n",
       "\n",
       "   location_1st phase jp nagar  location_2nd phase judicial layout  \\\n",
       "0                            0                                   0   \n",
       "1                            0                                   0   \n",
       "2                            0                                   0   \n",
       "3                            0                                   0   \n",
       "4                            0                                   0   \n",
       "\n",
       "   location_2nd stage nagarbhavi  location_5th block hbr layout  \\\n",
       "0                              0                              0   \n",
       "1                              0                              0   \n",
       "2                              0                              0   \n",
       "3                              0                              0   \n",
       "4                              0                              0   \n",
       "\n",
       "   location_5th phase jp nagar  location_6th phase jp nagar  ...  \\\n",
       "0                            0                            0  ...   \n",
       "1                            0                            0  ...   \n",
       "2                            0                            0  ...   \n",
       "3                            0                            0  ...   \n",
       "4                            0                            0  ...   \n",
       "\n",
       "   location_vijayanagar  location_vishveshwarya layout  \\\n",
       "0                     0                              0   \n",
       "1                     0                              0   \n",
       "2                     0                              0   \n",
       "3                     0                              0   \n",
       "4                     0                              0   \n",
       "\n",
       "   location_vishwapriya layout  location_vittasandra  location_whitefield  \\\n",
       "0                            0                     0                    0   \n",
       "1                            0                     0                    0   \n",
       "2                            0                     0                    0   \n",
       "3                            0                     0                    0   \n",
       "4                            0                     0                    0   \n",
       "\n",
       "   location_yelachenahalli  location_yelahanka  location_yelahanka new town  \\\n",
       "0                        0                   0                            0   \n",
       "1                        0                   0                            0   \n",
       "2                        0                   0                            0   \n",
       "3                        0                   0                            0   \n",
       "4                        0                   0                            0   \n",
       "\n",
       "   location_yelenahalli  location_yeshwanthpur  \n",
       "0                     0                      0  \n",
       "1                     0                      0  \n",
       "2                     0                      0  \n",
       "3                     0                      0  \n",
       "4                     0                      0  \n",
       "\n",
       "[5 rows x 244 columns]"
      ]
     },
     "execution_count": 62,
     "metadata": {},
     "output_type": "execute_result"
    }
   ],
   "source": [
    "#Independent variable: X\n",
    "X = df10.drop('price',axis='columns')\n",
    "X.head()"
   ]
  },
  {
   "cell_type": "code",
   "execution_count": 63,
   "id": "2d630a2e-29ec-477e-b7ea-60f44fa1d4ad",
   "metadata": {},
   "outputs": [
    {
     "data": {
      "text/plain": [
       "0    428.0\n",
       "1    194.0\n",
       "2    125.0\n",
       "3    235.0\n",
       "4    130.0\n",
       "Name: price, dtype: float64"
      ]
     },
     "execution_count": 63,
     "metadata": {},
     "output_type": "execute_result"
    }
   ],
   "source": [
    "#Dependent variable: Y\n",
    "Y = df10['price']\n",
    "Y.head()"
   ]
  },
  {
   "cell_type": "markdown",
   "id": "68157d76-b48f-41be-b80c-850581d66481",
   "metadata": {},
   "source": [
    "#### Applying LinearRegression after train_test_split"
   ]
  },
  {
   "cell_type": "code",
   "execution_count": 64,
   "id": "2039657a-6d6c-46de-adbf-b624b8666b11",
   "metadata": {},
   "outputs": [],
   "source": [
    "from sklearn.model_selection import train_test_split\n",
    "from sklearn.linear_model import LinearRegression"
   ]
  },
  {
   "cell_type": "code",
   "execution_count": 65,
   "id": "7900f76c-4f55-40e8-bc25-d6d15a959b28",
   "metadata": {},
   "outputs": [],
   "source": [
    "#20% data for testing and rest 80% data for fitting\n",
    "#random_state controls random shuffling and splitting of data - it will help to retain the way data is split\n",
    "X_train, X_test, Y_train, Y_test = train_test_split(X,Y,test_size=0.20,random_state=10)"
   ]
  },
  {
   "cell_type": "code",
   "execution_count": 66,
   "id": "4abbcbe5-2250-4acb-aef9-24c0e07af845",
   "metadata": {},
   "outputs": [],
   "source": [
    "lrgr = LinearRegression()\n",
    "lrgr.fit(X_train,Y_train)\n",
    "score = lrgr.score(X_test,Y_test)"
   ]
  },
  {
   "cell_type": "code",
   "execution_count": 67,
   "id": "904a419f-212a-4f0f-8cb2-d3b1f7bb35e5",
   "metadata": {},
   "outputs": [
    {
     "data": {
      "text/plain": [
       "87.8947023560827"
      ]
     },
     "execution_count": 67,
     "metadata": {},
     "output_type": "execute_result"
    }
   ],
   "source": [
    "score*100"
   ]
  },
  {
   "cell_type": "markdown",
   "id": "ad0d37e6-82d9-4379-b949-f9a363b19c54",
   "metadata": {},
   "source": [
    "#### K-fold cross validation test                                             "
   ]
  },
  {
   "cell_type": "code",
   "execution_count": 68,
   "id": "ec384ce6-e6cf-4635-b8e1-5ea8b078b023",
   "metadata": {},
   "outputs": [
    {
     "data": {
      "text/plain": [
       "array([0.87894702, 0.80682666, 0.88633182, 0.81065538, 0.83689434])"
      ]
     },
     "execution_count": 68,
     "metadata": {},
     "output_type": "execute_result"
    }
   ],
   "source": [
    "from sklearn.model_selection import ShuffleSplit, cross_val_score\n",
    "cv = ShuffleSplit(n_splits = 5, test_size=0.2, random_state=10)\n",
    "cross_val_score(LinearRegression(),X,Y,cv=cv)"
   ]
  },
  {
   "cell_type": "code",
   "execution_count": 69,
   "id": "7490274c-c5ac-4f89-9cd4-ca37e4e3b74e",
   "metadata": {},
   "outputs": [
    {
     "ename": "NameError",
     "evalue": "name 'Lasso' is not defined",
     "output_type": "error",
     "traceback": [
      "\u001b[1;31m---------------------------------------------------------------------------\u001b[0m",
      "\u001b[1;31mNameError\u001b[0m                                 Traceback (most recent call last)",
      "Cell \u001b[1;32mIn[69], line 1\u001b[0m\n\u001b[1;32m----> 1\u001b[0m cross_val_score(Lasso(),X,Y,cv\u001b[38;5;241m=\u001b[39mcv)\n",
      "\u001b[1;31mNameError\u001b[0m: name 'Lasso' is not defined"
     ]
    }
   ],
   "source": [
    "cross_val_score(Lasso(),X,Y,cv=cv)"
   ]
  },
  {
   "cell_type": "code",
   "execution_count": 70,
   "id": "b7fe36fd-4fa4-49d2-9e40-fd8d308de333",
   "metadata": {},
   "outputs": [
    {
     "ename": "NameError",
     "evalue": "name 'DecisionTreeRegressor' is not defined",
     "output_type": "error",
     "traceback": [
      "\u001b[1;31m---------------------------------------------------------------------------\u001b[0m",
      "\u001b[1;31mNameError\u001b[0m                                 Traceback (most recent call last)",
      "Cell \u001b[1;32mIn[70], line 1\u001b[0m\n\u001b[1;32m----> 1\u001b[0m cross_val_score(DecisionTreeRegressor(),X,Y,cv\u001b[38;5;241m=\u001b[39mcv)\n",
      "\u001b[1;31mNameError\u001b[0m: name 'DecisionTreeRegressor' is not defined"
     ]
    }
   ],
   "source": [
    "cross_val_score(DecisionTreeRegressor(),X,Y,cv=cv)"
   ]
  },
  {
   "cell_type": "markdown",
   "id": "0e357875-4f62-4d40-b341-079f3bb10457",
   "metadata": {},
   "source": [
    "Linear Regression seems to be the best model for prediction in our dataset"
   ]
  },
  {
   "cell_type": "markdown",
   "id": "431a96bb-c0fa-4711-8fde-3ac35831a679",
   "metadata": {},
   "source": [
    "#### Prediction"
   ]
  },
  {
   "cell_type": "code",
   "execution_count": 71,
   "id": "69bf473c-d80f-412c-ac2e-d71e9a0bf4ad",
   "metadata": {},
   "outputs": [
    {
     "data": {
      "text/plain": [
       "(array([3], dtype=int64),)"
      ]
     },
     "execution_count": 71,
     "metadata": {},
     "output_type": "execute_result"
    }
   ],
   "source": [
    "locat = \"location_1st block jayanagar\"\n",
    "loc_index=np.where(X.columns==locat)\n",
    "loc_index"
   ]
  },
  {
   "cell_type": "code",
   "execution_count": 72,
   "id": "430f89b8-bdf4-4186-9b27-2867686e897f",
   "metadata": {},
   "outputs": [],
   "source": [
    "def predict_price(location,sqft,bath,bhk):\n",
    "    location = location.lower()\n",
    "    location = 'location_'+location\n",
    "    location=location.strip()\n",
    "    loc_index = np.where(X.columns==location)\n",
    "\n",
    "    x = np.zeros(len(X.columns))\n",
    "    x[0] = sqft\n",
    "    x[1] = bath\n",
    "    x[2] = bhk\n",
    "    if len(loc_index[0]) and loc_index[0][0] > 0:\n",
    "        x[loc_index] = 1\n",
    "\n",
    "    return lrgr.predict([x])"
   ]
  },
  {
   "cell_type": "code",
   "execution_count": 73,
   "id": "e921122f-2e30-4330-8882-ba8713051b48",
   "metadata": {},
   "outputs": [
    {
     "name": "stderr",
     "output_type": "stream",
     "text": [
      "C:\\Users\\Ardhendu Sur\\anaconda3\\Lib\\site-packages\\sklearn\\base.py:439: UserWarning: X does not have valid feature names, but LinearRegression was fitted with feature names\n",
      "  warnings.warn(\n"
     ]
    },
    {
     "data": {
      "text/plain": [
       "array([88.33479454])"
      ]
     },
     "execution_count": 73,
     "metadata": {},
     "output_type": "execute_result"
    }
   ],
   "source": [
    "predict_price('1st Phase JP Nagar',1000, 2, 2)"
   ]
  },
  {
   "cell_type": "code",
   "execution_count": 74,
   "id": "b5ac603f-1bb5-4ebb-94c7-7e3f2a40341c",
   "metadata": {},
   "outputs": [
    {
     "name": "stderr",
     "output_type": "stream",
     "text": [
      "C:\\Users\\Ardhendu Sur\\anaconda3\\Lib\\site-packages\\sklearn\\base.py:439: UserWarning: X does not have valid feature names, but LinearRegression was fitted with feature names\n",
      "  warnings.warn(\n"
     ]
    },
    {
     "data": {
      "text/plain": [
       "array([89.87578078])"
      ]
     },
     "execution_count": 74,
     "metadata": {},
     "output_type": "execute_result"
    }
   ],
   "source": [
    "predict_price('1st Phase JP Nagar',1000, 3, 3)"
   ]
  },
  {
   "cell_type": "code",
   "execution_count": 75,
   "id": "dc543fcb-1985-4362-ad01-ccd7ca68eae1",
   "metadata": {},
   "outputs": [
    {
     "name": "stderr",
     "output_type": "stream",
     "text": [
      "C:\\Users\\Ardhendu Sur\\anaconda3\\Lib\\site-packages\\sklearn\\base.py:439: UserWarning: X does not have valid feature names, but LinearRegression was fitted with feature names\n",
      "  warnings.warn(\n"
     ]
    },
    {
     "data": {
      "text/plain": [
       "array([173.71297333])"
      ]
     },
     "execution_count": 75,
     "metadata": {},
     "output_type": "execute_result"
    }
   ],
   "source": [
    "predict_price('Indira Nagar',1000, 2, 2)"
   ]
  },
  {
   "cell_type": "code",
   "execution_count": 76,
   "id": "e5f99d8d-3a97-4172-ba76-380b060148d7",
   "metadata": {},
   "outputs": [
    {
     "name": "stderr",
     "output_type": "stream",
     "text": [
      "C:\\Users\\Ardhendu Sur\\anaconda3\\Lib\\site-packages\\sklearn\\base.py:439: UserWarning: X does not have valid feature names, but LinearRegression was fitted with feature names\n",
      "  warnings.warn(\n"
     ]
    },
    {
     "data": {
      "text/plain": [
       "array([175.25395957])"
      ]
     },
     "execution_count": 76,
     "metadata": {},
     "output_type": "execute_result"
    }
   ],
   "source": [
    "predict_price('Indira Nagar',1000, 3, 3)"
   ]
  },
  {
   "cell_type": "code",
   "execution_count": 77,
   "id": "e767642e-72d9-40f8-98b4-b1088f716ab2",
   "metadata": {},
   "outputs": [
    {
     "name": "stderr",
     "output_type": "stream",
     "text": [
      "C:\\Users\\Ardhendu Sur\\anaconda3\\Lib\\site-packages\\sklearn\\base.py:439: UserWarning: X does not have valid feature names, but LinearRegression was fitted with feature names\n",
      "  warnings.warn(\n"
     ]
    },
    {
     "data": {
      "text/plain": [
       "array([93.70559988])"
      ]
     },
     "execution_count": 77,
     "metadata": {},
     "output_type": "execute_result"
    }
   ],
   "source": [
    "predict_price('Whitefield',1500, 3, 4)"
   ]
  },
  {
   "cell_type": "markdown",
   "id": "3a72937c-bfd6-4390-9d67-4bc739849796",
   "metadata": {},
   "source": [
    "#### Uploading the model"
   ]
  },
  {
   "cell_type": "code",
   "execution_count": 78,
   "id": "54399acc-2555-4936-8151-7d66c82a1b49",
   "metadata": {},
   "outputs": [],
   "source": [
    "import pickle\n",
    "with open('bangalore_house_price_model.pickle','wb') as f:\n",
    "    pickle.dump(lrgr,f)"
   ]
  },
  {
   "cell_type": "markdown",
   "id": "7b59c92c-9666-427a-88e2-b7f9a02b07ac",
   "metadata": {},
   "source": [
    "#### Uploading Columns"
   ]
  },
  {
   "cell_type": "code",
   "execution_count": 79,
   "id": "6d1fdfde-18f8-4e84-9f0f-e1d5d5e5291e",
   "metadata": {},
   "outputs": [],
   "source": [
    "import json\n",
    "columns = {\n",
    "    'data_columns' : [col for col in X.columns]\n",
    "}\n",
    "with open(\"model_columns.json\",\"w\") as f:\n",
    "    f.write(json.dumps(columns))"
   ]
  },
  {
   "cell_type": "code",
   "execution_count": null,
   "id": "13211518-3387-4607-ae70-b439a239f853",
   "metadata": {},
   "outputs": [],
   "source": []
  }
 ],
 "metadata": {
  "kernelspec": {
   "display_name": "Python 3 (ipykernel)",
   "language": "python",
   "name": "python3"
  },
  "language_info": {
   "codemirror_mode": {
    "name": "ipython",
    "version": 3
   },
   "file_extension": ".py",
   "mimetype": "text/x-python",
   "name": "python",
   "nbconvert_exporter": "python",
   "pygments_lexer": "ipython3",
   "version": "3.11.7"
  }
 },
 "nbformat": 4,
 "nbformat_minor": 5
}
